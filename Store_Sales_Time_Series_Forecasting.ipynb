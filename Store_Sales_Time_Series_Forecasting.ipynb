{
 "cells": [
  {
   "cell_type": "code",
   "execution_count": 1,
   "metadata": {
    "id": "KQVZvUHBizh-"
   },
   "outputs": [],
   "source": [
    "#Importing basic libraries\n",
    "\n",
    "import numpy as np\n",
    "import pandas as pd\n",
    "import matplotlib.pyplot as plt\n",
    "import seaborn as sns"
   ]
  },
  {
   "cell_type": "code",
   "execution_count": 2,
   "metadata": {
    "id": "KKUZjvXZjoHf"
   },
   "outputs": [],
   "source": [
    "oil = pd.read_csv(r'E:/time_series/oil.csv')\n",
    "holidays = pd.read_csv(r'E:time_series/holidays_events.csv')\n",
    "sample = pd.read_csv(r'E:/time_series/sample_submission.csv')\n",
    "stores = pd.read_csv(r'E:/time_series/stores.csv')\n",
    "test = pd.read_csv(r'E:/time_series/test.csv')\n",
    "train = pd.read_csv(r'E:/time_series/train.csv')\n",
    "transactions = pd.read_csv(r'E:/time_series/transactions.csv')"
   ]
  },
  {
   "cell_type": "markdown",
   "metadata": {
    "id": "NA2ldbgIj2v1"
   },
   "source": [
    "## Data Exploration and Cleaning"
   ]
  },
  {
   "cell_type": "code",
   "execution_count": 3,
   "metadata": {
    "id": "VsAIiXgBjoLO"
   },
   "outputs": [],
   "source": [
    "def get_info(df):\n",
    "  print(\" -- DATA -- \")\n",
    "  print(df.head())\n",
    "  print(\" -- Shape --\")\n",
    "  print(df.shape)\n",
    "  print(\" -- Feature datatypes and non null value details -- \")\n",
    "  print(df.info())\n",
    "  print(\" -- Feature statistical details -- \")\n",
    "  print(df.describe().transpose())\n",
    "  print(\" -- Columns -- \")\n",
    "  print(df.columns)\n",
    "  print(\" -- Null Values -- \")\n",
    "  print(df.isnull().sum())"
   ]
  },
  {
   "cell_type": "code",
   "execution_count": 4,
   "metadata": {
    "colab": {
     "base_uri": "https://localhost:8080/"
    },
    "id": "Jdz5swA5joOr",
    "outputId": "f5e0fbea-0857-4b0b-eb36-f7c44d34dbb0"
   },
   "outputs": [
    {
     "name": "stdout",
     "output_type": "stream",
     "text": [
      " -- DATA -- \n",
      "         date  dcoilwtico\n",
      "0  2013-01-01         NaN\n",
      "1  2013-01-02       93.14\n",
      "2  2013-01-03       92.97\n",
      "3  2013-01-04       93.12\n",
      "4  2013-01-07       93.20\n",
      " -- Shape --\n",
      "(1218, 2)\n",
      " -- Feature datatypes and non null value details -- \n",
      "<class 'pandas.core.frame.DataFrame'>\n",
      "RangeIndex: 1218 entries, 0 to 1217\n",
      "Data columns (total 2 columns):\n",
      " #   Column      Non-Null Count  Dtype  \n",
      "---  ------      --------------  -----  \n",
      " 0   date        1218 non-null   object \n",
      " 1   dcoilwtico  1175 non-null   float64\n",
      "dtypes: float64(1), object(1)\n",
      "memory usage: 19.2+ KB\n",
      "None\n",
      " -- Feature statistical details -- \n",
      "             count       mean        std    min     25%    50%    75%     max\n",
      "dcoilwtico  1175.0  67.714366  25.630476  26.19  46.405  53.19  95.66  110.62\n",
      " -- Columns -- \n",
      "Index(['date', 'dcoilwtico'], dtype='object')\n",
      " -- Null Values -- \n",
      "date           0\n",
      "dcoilwtico    43\n",
      "dtype: int64\n"
     ]
    }
   ],
   "source": [
    "#OIL DATASET\n",
    "\n",
    "get_info(oil)"
   ]
  },
  {
   "cell_type": "code",
   "execution_count": 5,
   "metadata": {
    "id": "vDIw5cC-UYV3"
   },
   "outputs": [],
   "source": [
    "#Only contains missing values for one feature, imputing the missing with the previous valid observation\n",
    "\n",
    "oil[\"dcoilwtico\"].fillna(method = \"bfill\", inplace = True)"
   ]
  },
  {
   "cell_type": "code",
   "execution_count": 6,
   "metadata": {
    "colab": {
     "base_uri": "https://localhost:8080/"
    },
    "id": "umwBW_F8joSI",
    "outputId": "8416da1e-371d-4539-fb12-4784822fe229"
   },
   "outputs": [
    {
     "name": "stdout",
     "output_type": "stream",
     "text": [
      " -- DATA -- \n",
      "         date     type    locale locale_name                    description   \n",
      "0  2012-03-02  Holiday     Local       Manta             Fundacion de Manta  \\\n",
      "1  2012-04-01  Holiday  Regional    Cotopaxi  Provincializacion de Cotopaxi   \n",
      "2  2012-04-12  Holiday     Local      Cuenca            Fundacion de Cuenca   \n",
      "3  2012-04-14  Holiday     Local    Libertad      Cantonizacion de Libertad   \n",
      "4  2012-04-21  Holiday     Local    Riobamba      Cantonizacion de Riobamba   \n",
      "\n",
      "   transferred  \n",
      "0        False  \n",
      "1        False  \n",
      "2        False  \n",
      "3        False  \n",
      "4        False  \n",
      " -- Shape --\n",
      "(350, 6)\n",
      " -- Feature datatypes and non null value details -- \n",
      "<class 'pandas.core.frame.DataFrame'>\n",
      "RangeIndex: 350 entries, 0 to 349\n",
      "Data columns (total 6 columns):\n",
      " #   Column       Non-Null Count  Dtype \n",
      "---  ------       --------------  ----- \n",
      " 0   date         350 non-null    object\n",
      " 1   type         350 non-null    object\n",
      " 2   locale       350 non-null    object\n",
      " 3   locale_name  350 non-null    object\n",
      " 4   description  350 non-null    object\n",
      " 5   transferred  350 non-null    bool  \n",
      "dtypes: bool(1), object(5)\n",
      "memory usage: 14.1+ KB\n",
      "None\n",
      " -- Feature statistical details -- \n",
      "            count unique         top freq\n",
      "date          350    312  2014-06-25    4\n",
      "type          350      6     Holiday  221\n",
      "locale        350      3    National  174\n",
      "locale_name   350     24     Ecuador  174\n",
      "description   350    103    Carnaval   10\n",
      "transferred   350      2       False  338\n",
      " -- Columns -- \n",
      "Index(['date', 'type', 'locale', 'locale_name', 'description', 'transferred'], dtype='object')\n",
      " -- Null Values -- \n",
      "date           0\n",
      "type           0\n",
      "locale         0\n",
      "locale_name    0\n",
      "description    0\n",
      "transferred    0\n",
      "dtype: int64\n"
     ]
    }
   ],
   "source": [
    "#HOLIDAYS Dataset\n",
    "\n",
    "get_info(holidays)"
   ]
  },
  {
   "cell_type": "code",
   "execution_count": 7,
   "metadata": {
    "id": "IGYRurf9joVR"
   },
   "outputs": [],
   "source": [
    "#No missing values\n",
    "\n",
    "#But in the dataset description, it is mentioned that the Transferred holidays must be taken special care of: \n",
    "holidays.loc[holidays.type==\"Transfer\", \"description\"] = holidays.loc[holidays.type == \"Transfer\", \"description\"].str.replace(\"Translado\", \"\") ##Remove Translado word in the holidays as they are transferred holidays.\n",
    "holidays['type'].replace(\"Transfer\", \"Normal\", inplace = True) #Transferred holidays celebrated on that day from some other day"
   ]
  },
  {
   "cell_type": "code",
   "execution_count": 8,
   "metadata": {
    "colab": {
     "base_uri": "https://localhost:8080/"
    },
    "id": "6WovYUjYkJ8A",
    "outputId": "23fe9e92-29a5-4424-f907-3e7273fe9dd7"
   },
   "outputs": [
    {
     "name": "stdout",
     "output_type": "stream",
     "text": [
      " -- DATA -- \n",
      "   store_nbr           city                           state type  cluster\n",
      "0          1          Quito                       Pichincha    D       13\n",
      "1          2          Quito                       Pichincha    D       13\n",
      "2          3          Quito                       Pichincha    D        8\n",
      "3          4          Quito                       Pichincha    D        9\n",
      "4          5  Santo Domingo  Santo Domingo de los Tsachilas    D        4\n",
      " -- Shape --\n",
      "(54, 5)\n",
      " -- Feature datatypes and non null value details -- \n",
      "<class 'pandas.core.frame.DataFrame'>\n",
      "RangeIndex: 54 entries, 0 to 53\n",
      "Data columns (total 5 columns):\n",
      " #   Column     Non-Null Count  Dtype \n",
      "---  ------     --------------  ----- \n",
      " 0   store_nbr  54 non-null     int64 \n",
      " 1   city       54 non-null     object\n",
      " 2   state      54 non-null     object\n",
      " 3   type       54 non-null     object\n",
      " 4   cluster    54 non-null     int64 \n",
      "dtypes: int64(2), object(3)\n",
      "memory usage: 2.2+ KB\n",
      "None\n",
      " -- Feature statistical details -- \n",
      "           count       mean        std  min    25%   50%    75%   max\n",
      "store_nbr   54.0  27.500000  15.732133  1.0  14.25  27.5  40.75  54.0\n",
      "cluster     54.0   8.481481   4.693395  1.0   4.00   8.5  13.00  17.0\n",
      " -- Columns -- \n",
      "Index(['store_nbr', 'city', 'state', 'type', 'cluster'], dtype='object')\n",
      " -- Null Values -- \n",
      "store_nbr    0\n",
      "city         0\n",
      "state        0\n",
      "type         0\n",
      "cluster      0\n",
      "dtype: int64\n"
     ]
    }
   ],
   "source": [
    "# STORES Dataset\n",
    "\n",
    "get_info(stores)"
   ]
  },
  {
   "cell_type": "code",
   "execution_count": 9,
   "metadata": {
    "colab": {
     "base_uri": "https://localhost:8080/"
    },
    "id": "MQXbb_6DkKAc",
    "outputId": "172b1acd-87b1-46d5-c033-d3b81434ebf0"
   },
   "outputs": [
    {
     "name": "stdout",
     "output_type": "stream",
     "text": [
      " -- DATA -- \n",
      "         date  store_nbr  transactions\n",
      "0  2013-01-01         25           770\n",
      "1  2013-01-02          1          2111\n",
      "2  2013-01-02          2          2358\n",
      "3  2013-01-02          3          3487\n",
      "4  2013-01-02          4          1922\n",
      " -- Shape --\n",
      "(83488, 3)\n",
      " -- Feature datatypes and non null value details -- \n",
      "<class 'pandas.core.frame.DataFrame'>\n",
      "RangeIndex: 83488 entries, 0 to 83487\n",
      "Data columns (total 3 columns):\n",
      " #   Column        Non-Null Count  Dtype \n",
      "---  ------        --------------  ----- \n",
      " 0   date          83488 non-null  object\n",
      " 1   store_nbr     83488 non-null  int64 \n",
      " 2   transactions  83488 non-null  int64 \n",
      "dtypes: int64(2), object(1)\n",
      "memory usage: 1.9+ MB\n",
      "None\n",
      " -- Feature statistical details -- \n",
      "                count         mean         std  min     25%     50%     75%   \n",
      "store_nbr     83488.0    26.939237   15.608204  1.0    13.0    27.0    40.0  \\\n",
      "transactions  83488.0  1694.602158  963.286644  5.0  1046.0  1393.0  2079.0   \n",
      "\n",
      "                 max  \n",
      "store_nbr       54.0  \n",
      "transactions  8359.0  \n",
      " -- Columns -- \n",
      "Index(['date', 'store_nbr', 'transactions'], dtype='object')\n",
      " -- Null Values -- \n",
      "date            0\n",
      "store_nbr       0\n",
      "transactions    0\n",
      "dtype: int64\n"
     ]
    }
   ],
   "source": [
    "# TRANSACTIONS DATASET\n",
    "\n",
    "get_info(transactions)"
   ]
  },
  {
   "cell_type": "code",
   "execution_count": 10,
   "metadata": {
    "colab": {
     "base_uri": "https://localhost:8080/"
    },
    "id": "h_hkhYF2kKDq",
    "outputId": "2dab76e3-0769-4c33-f9d2-5bff3218f474"
   },
   "outputs": [
    {
     "name": "stdout",
     "output_type": "stream",
     "text": [
      " -- DATA -- \n",
      "   id        date  store_nbr      family  sales  onpromotion\n",
      "0   0  2013-01-01          1  AUTOMOTIVE    0.0            0\n",
      "1   1  2013-01-01          1   BABY CARE    0.0            0\n",
      "2   2  2013-01-01          1      BEAUTY    0.0            0\n",
      "3   3  2013-01-01          1   BEVERAGES    0.0            0\n",
      "4   4  2013-01-01          1       BOOKS    0.0            0\n",
      " -- Shape --\n",
      "(3000888, 6)\n",
      " -- Feature datatypes and non null value details -- \n",
      "<class 'pandas.core.frame.DataFrame'>\n",
      "RangeIndex: 3000888 entries, 0 to 3000887\n",
      "Data columns (total 6 columns):\n",
      " #   Column       Dtype  \n",
      "---  ------       -----  \n",
      " 0   id           int64  \n",
      " 1   date         object \n",
      " 2   store_nbr    int64  \n",
      " 3   family       object \n",
      " 4   sales        float64\n",
      " 5   onpromotion  int64  \n",
      "dtypes: float64(1), int64(3), object(2)\n",
      "memory usage: 137.4+ MB\n",
      "None\n",
      " -- Feature statistical details -- \n",
      "                 count          mean            std  min        25%   \n",
      "id           3000888.0  1.500444e+06  866281.891642  0.0  750221.75  \\\n",
      "store_nbr    3000888.0  2.750000e+01      15.585787  1.0      14.00   \n",
      "sales        3000888.0  3.577757e+02    1101.997721  0.0       0.00   \n",
      "onpromotion  3000888.0  2.602770e+00      12.218882  0.0       0.00   \n",
      "\n",
      "                   50%           75%        max  \n",
      "id           1500443.5  2.250665e+06  3000887.0  \n",
      "store_nbr         27.5  4.100000e+01       54.0  \n",
      "sales             11.0  1.958473e+02   124717.0  \n",
      "onpromotion        0.0  0.000000e+00      741.0  \n",
      " -- Columns -- \n",
      "Index(['id', 'date', 'store_nbr', 'family', 'sales', 'onpromotion'], dtype='object')\n",
      " -- Null Values -- \n",
      "id             0\n",
      "date           0\n",
      "store_nbr      0\n",
      "family         0\n",
      "sales          0\n",
      "onpromotion    0\n",
      "dtype: int64\n"
     ]
    }
   ],
   "source": [
    "# TRAIN Dataset\n",
    "\n",
    "get_info(train)"
   ]
  },
  {
   "cell_type": "markdown",
   "metadata": {
    "id": "_9Nfgzi2kXuD"
   },
   "source": [
    "## Data Visualization"
   ]
  },
  {
   "cell_type": "code",
   "execution_count": 11,
   "metadata": {
    "id": "OmD8gl0dkKG9"
   },
   "outputs": [],
   "source": [
    "def date_form(df):\n",
    "    df['date'] = pd.to_datetime(df['date'], format = \"%Y-%m-%d\")"
   ]
  },
  {
   "cell_type": "code",
   "execution_count": 12,
   "metadata": {
    "id": "emtue19ukKJ2"
   },
   "outputs": [],
   "source": [
    "date_form(holidays)\n",
    "date_form(oil)\n",
    "date_form(train)\n",
    "date_form(test)\n",
    "date_form(transactions)"
   ]
  },
  {
   "cell_type": "code",
   "execution_count": 13,
   "metadata": {
    "colab": {
     "base_uri": "https://localhost:8080/",
     "height": 487
    },
    "id": "bv8Ogv_LkKM_",
    "outputId": "4a21debe-4972-487f-8a9e-e9a7cb320aa5"
   },
   "outputs": [
    {
     "data": {
      "image/png": "[encoded data removed]",
      "text/plain": [
       "<Figure size 720x360 with 1 Axes>"
      ]
     },
     "metadata": {
      "needs_background": "light"
     },
     "output_type": "display_data"
    }
   ],
   "source": [
    "fig, axes = plt.subplots(nrows=1, ncols=1, figsize=(10,5))\n",
    "oil.plot.line(x=\"date\", y=\"dcoilwtico\", color=\"b\", ax=axes, rot=0)\n",
    "plt.title(\"Dependency of the oil from the data\")\n",
    "plt.show()"
   ]
  },
  {
   "cell_type": "code",
   "execution_count": 14,
   "metadata": {
    "colab": {
     "base_uri": "https://localhost:8080/",
     "height": 442
    },
    "id": "OV-vGluQkKQO",
    "outputId": "68df315e-525c-4ac7-a011-3f50a7ea3718"
   },
   "outputs": [
    {
     "data": {
      "image/png": "[encoded data removed]",
      "text/plain": [
       "<Figure size 720x360 with 1 Axes>"
      ]
     },
     "metadata": {
      "needs_background": "light"
     },
     "output_type": "display_data"
    }
   ],
   "source": [
    "fig, axes = plt.subplots(nrows=1, ncols=1, figsize=(10,5))\n",
    "transactions.plot.line(x=\"date\", y=\"transactions\", color=\"b\", ax=axes, rot=0)\n",
    "plt.title(\"No of transactions per date\")\n",
    "plt.show()"
   ]
  },
  {
   "cell_type": "code",
   "execution_count": 15,
   "metadata": {
    "id": "57i67D3KkKTy"
   },
   "outputs": [],
   "source": [
    "def plot_stats(df, column, ax,color,angle):\n",
    "    count_classes = df[column].value_counts()\n",
    "    ax = sns.barplot(x=count_classes.index, y=count_classes, ax=ax, palette=color)\n",
    "    ax.set_title(column.upper(), fontsize=20)\n",
    "    for tick in ax.get_xticklabels():\n",
    "        tick.set_rotation(angle)"
   ]
  },
  {
   "cell_type": "code",
   "execution_count": 16,
   "metadata": {
    "colab": {
     "base_uri": "https://localhost:8080/",
     "height": 465
    },
    "id": "sA-712kEkKWn",
    "outputId": "78224167-1415-412b-8dcb-82c942b55d3d"
   },
   "outputs": [
    {
     "data": {
      "image/png": "[encoded data removed]",
      "text/plain": [
       "<Figure size 1080x360 with 2 Axes>"
      ]
     },
     "metadata": {
      "needs_background": "light"
     },
     "output_type": "display_data"
    }
   ],
   "source": [
    "fig, axes = plt.subplots(nrows=1, ncols=2, figsize=(15,5))\n",
    "fig.autofmt_xdate()\n",
    "fig.suptitle(\"Stats of df_holidays\".upper())\n",
    "plot_stats(holidays, \"type\", axes[0], \"pastel\", 45)\n",
    "plot_stats(holidays, \"locale\", axes[1], \"rocket\", 45)\n",
    "plt.show()"
   ]
  },
  {
   "cell_type": "code",
   "execution_count": 17,
   "metadata": {
    "colab": {
     "base_uri": "https://localhost:8080/",
     "height": 1000
    },
    "id": "RfiVb_axkKa4",
    "outputId": "d67270c3-3346-41c1-cd27-da760d042563"
   },
   "outputs": [
    {
     "data": {
      "image/png": "[encoded data removed]",
      "text/plain": [
       "<Figure size 720x1080 with 4 Axes>"
      ]
     },
     "metadata": {
      "needs_background": "light"
     },
     "output_type": "display_data"
    }
   ],
   "source": [
    "## stores\n",
    "fig, axes = plt.subplots(nrows = 4, ncols=1, figsize=(10, 15))\n",
    "plot_stats(stores, \"city\", axes[0], \"mako_r\", 45)\n",
    "plot_stats(stores, \"state\", axes[1], \"rocket_r\", 45)\n",
    "plot_stats(stores, \"type\", axes[2], \"magma\", 0)\n",
    "plot_stats(stores, \"cluster\", axes[3], \"viridis\", 0)"
   ]
  },
  {
   "cell_type": "markdown",
   "metadata": {
    "id": "TFHsmeyqVBw3"
   },
   "source": [
    "## Data merging "
   ]
  },
  {
   "cell_type": "code",
   "execution_count": 18,
   "metadata": {
    "colab": {
     "base_uri": "https://localhost:8080/",
     "height": 206
    },
    "id": "kFkz_nQdkrPF",
    "outputId": "5e5f1aff-146c-4c4e-d758-61d02ef5e62a"
   },
   "outputs": [
    {
     "data": {
      "text/html": [
       "<div>\n",
       "<style scoped>\n",
       "    .dataframe tbody tr th:only-of-type {\n",
       "        vertical-align: middle;\n",
       "    }\n",
       "\n",
       "    .dataframe tbody tr th {\n",
       "        vertical-align: top;\n",
       "    }\n",
       "\n",
       "    .dataframe thead th {\n",
       "        text-align: right;\n",
       "    }\n",
       "</style>\n",
       "<table border=\"1\" class=\"dataframe\">\n",
       "  <thead>\n",
       "    <tr style=\"text-align: right;\">\n",
       "      <th></th>\n",
       "      <th>id</th>\n",
       "      <th>date</th>\n",
       "      <th>store_nbr</th>\n",
       "      <th>family</th>\n",
       "      <th>sales</th>\n",
       "      <th>onpromotion</th>\n",
       "    </tr>\n",
       "  </thead>\n",
       "  <tbody>\n",
       "    <tr>\n",
       "      <th>0</th>\n",
       "      <td>0</td>\n",
       "      <td>2013-01-01</td>\n",
       "      <td>1</td>\n",
       "      <td>AUTOMOTIVE</td>\n",
       "      <td>0.0</td>\n",
       "      <td>0</td>\n",
       "    </tr>\n",
       "    <tr>\n",
       "      <th>1</th>\n",
       "      <td>1</td>\n",
       "      <td>2013-01-01</td>\n",
       "      <td>1</td>\n",
       "      <td>BABY CARE</td>\n",
       "      <td>0.0</td>\n",
       "      <td>0</td>\n",
       "    </tr>\n",
       "    <tr>\n",
       "      <th>2</th>\n",
       "      <td>2</td>\n",
       "      <td>2013-01-01</td>\n",
       "      <td>1</td>\n",
       "      <td>BEAUTY</td>\n",
       "      <td>0.0</td>\n",
       "      <td>0</td>\n",
       "    </tr>\n",
       "    <tr>\n",
       "      <th>3</th>\n",
       "      <td>3</td>\n",
       "      <td>2013-01-01</td>\n",
       "      <td>1</td>\n",
       "      <td>BEVERAGES</td>\n",
       "      <td>0.0</td>\n",
       "      <td>0</td>\n",
       "    </tr>\n",
       "    <tr>\n",
       "      <th>4</th>\n",
       "      <td>4</td>\n",
       "      <td>2013-01-01</td>\n",
       "      <td>1</td>\n",
       "      <td>BOOKS</td>\n",
       "      <td>0.0</td>\n",
       "      <td>0</td>\n",
       "    </tr>\n",
       "  </tbody>\n",
       "</table>\n",
       "</div>"
      ],
      "text/plain": [
       "   id       date  store_nbr      family  sales  onpromotion\n",
       "0   0 2013-01-01          1  AUTOMOTIVE    0.0            0\n",
       "1   1 2013-01-01          1   BABY CARE    0.0            0\n",
       "2   2 2013-01-01          1      BEAUTY    0.0            0\n",
       "3   3 2013-01-01          1   BEVERAGES    0.0            0\n",
       "4   4 2013-01-01          1       BOOKS    0.0            0"
      ]
     },
     "execution_count": 18,
     "metadata": {},
     "output_type": "execute_result"
    }
   ],
   "source": [
    "train.head()"
   ]
  },
  {
   "cell_type": "code",
   "execution_count": 19,
   "metadata": {
    "colab": {
     "base_uri": "https://localhost:8080/",
     "height": 206
    },
    "id": "xIfh58R5VFOq",
    "outputId": "4090573c-450a-41b2-f8a9-c3157d629d0e"
   },
   "outputs": [
    {
     "data": {
      "text/html": [
       "<div>\n",
       "<style scoped>\n",
       "    .dataframe tbody tr th:only-of-type {\n",
       "        vertical-align: middle;\n",
       "    }\n",
       "\n",
       "    .dataframe tbody tr th {\n",
       "        vertical-align: top;\n",
       "    }\n",
       "\n",
       "    .dataframe thead th {\n",
       "        text-align: right;\n",
       "    }\n",
       "</style>\n",
       "<table border=\"1\" class=\"dataframe\">\n",
       "  <thead>\n",
       "    <tr style=\"text-align: right;\">\n",
       "      <th></th>\n",
       "      <th>id</th>\n",
       "      <th>date</th>\n",
       "      <th>store_nbr</th>\n",
       "      <th>family</th>\n",
       "      <th>sales</th>\n",
       "      <th>onpromotion</th>\n",
       "      <th>type</th>\n",
       "      <th>locale</th>\n",
       "      <th>locale_name</th>\n",
       "      <th>description</th>\n",
       "      <th>transferred</th>\n",
       "    </tr>\n",
       "  </thead>\n",
       "  <tbody>\n",
       "    <tr>\n",
       "      <th>0</th>\n",
       "      <td>0</td>\n",
       "      <td>2013-01-01</td>\n",
       "      <td>1</td>\n",
       "      <td>AUTOMOTIVE</td>\n",
       "      <td>0.0</td>\n",
       "      <td>0</td>\n",
       "      <td>Holiday</td>\n",
       "      <td>National</td>\n",
       "      <td>Ecuador</td>\n",
       "      <td>Primer dia del ano</td>\n",
       "      <td>False</td>\n",
       "    </tr>\n",
       "    <tr>\n",
       "      <th>1</th>\n",
       "      <td>1</td>\n",
       "      <td>2013-01-01</td>\n",
       "      <td>1</td>\n",
       "      <td>BABY CARE</td>\n",
       "      <td>0.0</td>\n",
       "      <td>0</td>\n",
       "      <td>Holiday</td>\n",
       "      <td>National</td>\n",
       "      <td>Ecuador</td>\n",
       "      <td>Primer dia del ano</td>\n",
       "      <td>False</td>\n",
       "    </tr>\n",
       "    <tr>\n",
       "      <th>2</th>\n",
       "      <td>2</td>\n",
       "      <td>2013-01-01</td>\n",
       "      <td>1</td>\n",
       "      <td>BEAUTY</td>\n",
       "      <td>0.0</td>\n",
       "      <td>0</td>\n",
       "      <td>Holiday</td>\n",
       "      <td>National</td>\n",
       "      <td>Ecuador</td>\n",
       "      <td>Primer dia del ano</td>\n",
       "      <td>False</td>\n",
       "    </tr>\n",
       "    <tr>\n",
       "      <th>3</th>\n",
       "      <td>3</td>\n",
       "      <td>2013-01-01</td>\n",
       "      <td>1</td>\n",
       "      <td>BEVERAGES</td>\n",
       "      <td>0.0</td>\n",
       "      <td>0</td>\n",
       "      <td>Holiday</td>\n",
       "      <td>National</td>\n",
       "      <td>Ecuador</td>\n",
       "      <td>Primer dia del ano</td>\n",
       "      <td>False</td>\n",
       "    </tr>\n",
       "    <tr>\n",
       "      <th>4</th>\n",
       "      <td>4</td>\n",
       "      <td>2013-01-01</td>\n",
       "      <td>1</td>\n",
       "      <td>BOOKS</td>\n",
       "      <td>0.0</td>\n",
       "      <td>0</td>\n",
       "      <td>Holiday</td>\n",
       "      <td>National</td>\n",
       "      <td>Ecuador</td>\n",
       "      <td>Primer dia del ano</td>\n",
       "      <td>False</td>\n",
       "    </tr>\n",
       "  </tbody>\n",
       "</table>\n",
       "</div>"
      ],
      "text/plain": [
       "   id       date  store_nbr      family  sales  onpromotion     type   \n",
       "0   0 2013-01-01          1  AUTOMOTIVE    0.0            0  Holiday  \\\n",
       "1   1 2013-01-01          1   BABY CARE    0.0            0  Holiday   \n",
       "2   2 2013-01-01          1      BEAUTY    0.0            0  Holiday   \n",
       "3   3 2013-01-01          1   BEVERAGES    0.0            0  Holiday   \n",
       "4   4 2013-01-01          1       BOOKS    0.0            0  Holiday   \n",
       "\n",
       "     locale locale_name         description transferred  \n",
       "0  National     Ecuador  Primer dia del ano       False  \n",
       "1  National     Ecuador  Primer dia del ano       False  \n",
       "2  National     Ecuador  Primer dia del ano       False  \n",
       "3  National     Ecuador  Primer dia del ano       False  \n",
       "4  National     Ecuador  Primer dia del ano       False  "
      ]
     },
     "execution_count": 19,
     "metadata": {},
     "output_type": "execute_result"
    }
   ],
   "source": [
    "df = train.merge(holidays, on = 'date', how = 'left')\n",
    "df.head()"
   ]
  },
  {
   "cell_type": "code",
   "execution_count": 20,
   "metadata": {
    "colab": {
     "base_uri": "https://localhost:8080/",
     "height": 206
    },
    "id": "Rcc6HM7YVFRp",
    "outputId": "11c6f43d-3074-4d88-f2e2-9f01722b57de"
   },
   "outputs": [
    {
     "data": {
      "text/html": [
       "<div>\n",
       "<style scoped>\n",
       "    .dataframe tbody tr th:only-of-type {\n",
       "        vertical-align: middle;\n",
       "    }\n",
       "\n",
       "    .dataframe tbody tr th {\n",
       "        vertical-align: top;\n",
       "    }\n",
       "\n",
       "    .dataframe thead th {\n",
       "        text-align: right;\n",
       "    }\n",
       "</style>\n",
       "<table border=\"1\" class=\"dataframe\">\n",
       "  <thead>\n",
       "    <tr style=\"text-align: right;\">\n",
       "      <th></th>\n",
       "      <th>id</th>\n",
       "      <th>date</th>\n",
       "      <th>store_nbr</th>\n",
       "      <th>family</th>\n",
       "      <th>sales</th>\n",
       "      <th>onpromotion</th>\n",
       "      <th>type</th>\n",
       "      <th>locale</th>\n",
       "      <th>locale_name</th>\n",
       "      <th>description</th>\n",
       "      <th>transferred</th>\n",
       "      <th>dcoilwtico</th>\n",
       "    </tr>\n",
       "  </thead>\n",
       "  <tbody>\n",
       "    <tr>\n",
       "      <th>0</th>\n",
       "      <td>0</td>\n",
       "      <td>2013-01-01</td>\n",
       "      <td>1</td>\n",
       "      <td>AUTOMOTIVE</td>\n",
       "      <td>0.0</td>\n",
       "      <td>0</td>\n",
       "      <td>Holiday</td>\n",
       "      <td>National</td>\n",
       "      <td>Ecuador</td>\n",
       "      <td>Primer dia del ano</td>\n",
       "      <td>False</td>\n",
       "      <td>93.14</td>\n",
       "    </tr>\n",
       "    <tr>\n",
       "      <th>1</th>\n",
       "      <td>1</td>\n",
       "      <td>2013-01-01</td>\n",
       "      <td>1</td>\n",
       "      <td>BABY CARE</td>\n",
       "      <td>0.0</td>\n",
       "      <td>0</td>\n",
       "      <td>Holiday</td>\n",
       "      <td>National</td>\n",
       "      <td>Ecuador</td>\n",
       "      <td>Primer dia del ano</td>\n",
       "      <td>False</td>\n",
       "      <td>93.14</td>\n",
       "    </tr>\n",
       "    <tr>\n",
       "      <th>2</th>\n",
       "      <td>2</td>\n",
       "      <td>2013-01-01</td>\n",
       "      <td>1</td>\n",
       "      <td>BEAUTY</td>\n",
       "      <td>0.0</td>\n",
       "      <td>0</td>\n",
       "      <td>Holiday</td>\n",
       "      <td>National</td>\n",
       "      <td>Ecuador</td>\n",
       "      <td>Primer dia del ano</td>\n",
       "      <td>False</td>\n",
       "      <td>93.14</td>\n",
       "    </tr>\n",
       "    <tr>\n",
       "      <th>3</th>\n",
       "      <td>3</td>\n",
       "      <td>2013-01-01</td>\n",
       "      <td>1</td>\n",
       "      <td>BEVERAGES</td>\n",
       "      <td>0.0</td>\n",
       "      <td>0</td>\n",
       "      <td>Holiday</td>\n",
       "      <td>National</td>\n",
       "      <td>Ecuador</td>\n",
       "      <td>Primer dia del ano</td>\n",
       "      <td>False</td>\n",
       "      <td>93.14</td>\n",
       "    </tr>\n",
       "    <tr>\n",
       "      <th>4</th>\n",
       "      <td>4</td>\n",
       "      <td>2013-01-01</td>\n",
       "      <td>1</td>\n",
       "      <td>BOOKS</td>\n",
       "      <td>0.0</td>\n",
       "      <td>0</td>\n",
       "      <td>Holiday</td>\n",
       "      <td>National</td>\n",
       "      <td>Ecuador</td>\n",
       "      <td>Primer dia del ano</td>\n",
       "      <td>False</td>\n",
       "      <td>93.14</td>\n",
       "    </tr>\n",
       "  </tbody>\n",
       "</table>\n",
       "</div>"
      ],
      "text/plain": [
       "   id       date  store_nbr      family  sales  onpromotion     type   \n",
       "0   0 2013-01-01          1  AUTOMOTIVE    0.0            0  Holiday  \\\n",
       "1   1 2013-01-01          1   BABY CARE    0.0            0  Holiday   \n",
       "2   2 2013-01-01          1      BEAUTY    0.0            0  Holiday   \n",
       "3   3 2013-01-01          1   BEVERAGES    0.0            0  Holiday   \n",
       "4   4 2013-01-01          1       BOOKS    0.0            0  Holiday   \n",
       "\n",
       "     locale locale_name         description transferred  dcoilwtico  \n",
       "0  National     Ecuador  Primer dia del ano       False       93.14  \n",
       "1  National     Ecuador  Primer dia del ano       False       93.14  \n",
       "2  National     Ecuador  Primer dia del ano       False       93.14  \n",
       "3  National     Ecuador  Primer dia del ano       False       93.14  \n",
       "4  National     Ecuador  Primer dia del ano       False       93.14  "
      ]
     },
     "execution_count": 20,
     "metadata": {},
     "output_type": "execute_result"
    }
   ],
   "source": [
    "df = df.merge(oil, on = 'date', how = 'left')\n",
    "df.head()"
   ]
  },
  {
   "cell_type": "code",
   "execution_count": 21,
   "metadata": {
    "colab": {
     "base_uri": "https://localhost:8080/",
     "height": 357
    },
    "id": "F84MsoSuVFVi",
    "outputId": "951075b3-8695-4e7d-fdba-60b9a38e2c23"
   },
   "outputs": [
    {
     "data": {
      "text/html": [
       "<div>\n",
       "<style scoped>\n",
       "    .dataframe tbody tr th:only-of-type {\n",
       "        vertical-align: middle;\n",
       "    }\n",
       "\n",
       "    .dataframe tbody tr th {\n",
       "        vertical-align: top;\n",
       "    }\n",
       "\n",
       "    .dataframe thead th {\n",
       "        text-align: right;\n",
       "    }\n",
       "</style>\n",
       "<table border=\"1\" class=\"dataframe\">\n",
       "  <thead>\n",
       "    <tr style=\"text-align: right;\">\n",
       "      <th></th>\n",
       "      <th>id</th>\n",
       "      <th>date</th>\n",
       "      <th>store_nbr</th>\n",
       "      <th>family</th>\n",
       "      <th>sales</th>\n",
       "      <th>onpromotion</th>\n",
       "      <th>type_x</th>\n",
       "      <th>locale</th>\n",
       "      <th>locale_name</th>\n",
       "      <th>description</th>\n",
       "      <th>transferred</th>\n",
       "      <th>dcoilwtico</th>\n",
       "      <th>city</th>\n",
       "      <th>state</th>\n",
       "      <th>type_y</th>\n",
       "      <th>cluster</th>\n",
       "    </tr>\n",
       "  </thead>\n",
       "  <tbody>\n",
       "    <tr>\n",
       "      <th>0</th>\n",
       "      <td>0</td>\n",
       "      <td>2013-01-01</td>\n",
       "      <td>1</td>\n",
       "      <td>AUTOMOTIVE</td>\n",
       "      <td>0.0</td>\n",
       "      <td>0</td>\n",
       "      <td>Holiday</td>\n",
       "      <td>National</td>\n",
       "      <td>Ecuador</td>\n",
       "      <td>Primer dia del ano</td>\n",
       "      <td>False</td>\n",
       "      <td>93.14</td>\n",
       "      <td>Quito</td>\n",
       "      <td>Pichincha</td>\n",
       "      <td>D</td>\n",
       "      <td>13</td>\n",
       "    </tr>\n",
       "    <tr>\n",
       "      <th>1</th>\n",
       "      <td>1</td>\n",
       "      <td>2013-01-01</td>\n",
       "      <td>1</td>\n",
       "      <td>BABY CARE</td>\n",
       "      <td>0.0</td>\n",
       "      <td>0</td>\n",
       "      <td>Holiday</td>\n",
       "      <td>National</td>\n",
       "      <td>Ecuador</td>\n",
       "      <td>Primer dia del ano</td>\n",
       "      <td>False</td>\n",
       "      <td>93.14</td>\n",
       "      <td>Quito</td>\n",
       "      <td>Pichincha</td>\n",
       "      <td>D</td>\n",
       "      <td>13</td>\n",
       "    </tr>\n",
       "    <tr>\n",
       "      <th>2</th>\n",
       "      <td>2</td>\n",
       "      <td>2013-01-01</td>\n",
       "      <td>1</td>\n",
       "      <td>BEAUTY</td>\n",
       "      <td>0.0</td>\n",
       "      <td>0</td>\n",
       "      <td>Holiday</td>\n",
       "      <td>National</td>\n",
       "      <td>Ecuador</td>\n",
       "      <td>Primer dia del ano</td>\n",
       "      <td>False</td>\n",
       "      <td>93.14</td>\n",
       "      <td>Quito</td>\n",
       "      <td>Pichincha</td>\n",
       "      <td>D</td>\n",
       "      <td>13</td>\n",
       "    </tr>\n",
       "    <tr>\n",
       "      <th>3</th>\n",
       "      <td>3</td>\n",
       "      <td>2013-01-01</td>\n",
       "      <td>1</td>\n",
       "      <td>BEVERAGES</td>\n",
       "      <td>0.0</td>\n",
       "      <td>0</td>\n",
       "      <td>Holiday</td>\n",
       "      <td>National</td>\n",
       "      <td>Ecuador</td>\n",
       "      <td>Primer dia del ano</td>\n",
       "      <td>False</td>\n",
       "      <td>93.14</td>\n",
       "      <td>Quito</td>\n",
       "      <td>Pichincha</td>\n",
       "      <td>D</td>\n",
       "      <td>13</td>\n",
       "    </tr>\n",
       "    <tr>\n",
       "      <th>4</th>\n",
       "      <td>4</td>\n",
       "      <td>2013-01-01</td>\n",
       "      <td>1</td>\n",
       "      <td>BOOKS</td>\n",
       "      <td>0.0</td>\n",
       "      <td>0</td>\n",
       "      <td>Holiday</td>\n",
       "      <td>National</td>\n",
       "      <td>Ecuador</td>\n",
       "      <td>Primer dia del ano</td>\n",
       "      <td>False</td>\n",
       "      <td>93.14</td>\n",
       "      <td>Quito</td>\n",
       "      <td>Pichincha</td>\n",
       "      <td>D</td>\n",
       "      <td>13</td>\n",
       "    </tr>\n",
       "  </tbody>\n",
       "</table>\n",
       "</div>"
      ],
      "text/plain": [
       "   id       date  store_nbr      family  sales  onpromotion   type_x   \n",
       "0   0 2013-01-01          1  AUTOMOTIVE    0.0            0  Holiday  \\\n",
       "1   1 2013-01-01          1   BABY CARE    0.0            0  Holiday   \n",
       "2   2 2013-01-01          1      BEAUTY    0.0            0  Holiday   \n",
       "3   3 2013-01-01          1   BEVERAGES    0.0            0  Holiday   \n",
       "4   4 2013-01-01          1       BOOKS    0.0            0  Holiday   \n",
       "\n",
       "     locale locale_name         description transferred  dcoilwtico   city   \n",
       "0  National     Ecuador  Primer dia del ano       False       93.14  Quito  \\\n",
       "1  National     Ecuador  Primer dia del ano       False       93.14  Quito   \n",
       "2  National     Ecuador  Primer dia del ano       False       93.14  Quito   \n",
       "3  National     Ecuador  Primer dia del ano       False       93.14  Quito   \n",
       "4  National     Ecuador  Primer dia del ano       False       93.14  Quito   \n",
       "\n",
       "       state type_y  cluster  \n",
       "0  Pichincha      D       13  \n",
       "1  Pichincha      D       13  \n",
       "2  Pichincha      D       13  \n",
       "3  Pichincha      D       13  \n",
       "4  Pichincha      D       13  "
      ]
     },
     "execution_count": 21,
     "metadata": {},
     "output_type": "execute_result"
    }
   ],
   "source": [
    "df = df.merge(stores, on = 'store_nbr', how = 'left')\n",
    "df.head()"
   ]
  },
  {
   "cell_type": "code",
   "execution_count": 22,
   "metadata": {
    "colab": {
     "base_uri": "https://localhost:8080/",
     "height": 357
    },
    "id": "e2eV8LXbVFZM",
    "outputId": "60c95a68-8cf0-410b-e709-eded8b276821"
   },
   "outputs": [
    {
     "data": {
      "text/html": [
       "<div>\n",
       "<style scoped>\n",
       "    .dataframe tbody tr th:only-of-type {\n",
       "        vertical-align: middle;\n",
       "    }\n",
       "\n",
       "    .dataframe tbody tr th {\n",
       "        vertical-align: top;\n",
       "    }\n",
       "\n",
       "    .dataframe thead th {\n",
       "        text-align: right;\n",
       "    }\n",
       "</style>\n",
       "<table border=\"1\" class=\"dataframe\">\n",
       "  <thead>\n",
       "    <tr style=\"text-align: right;\">\n",
       "      <th></th>\n",
       "      <th>id</th>\n",
       "      <th>date</th>\n",
       "      <th>store_nbr</th>\n",
       "      <th>family</th>\n",
       "      <th>sales</th>\n",
       "      <th>onpromotion</th>\n",
       "      <th>type_x</th>\n",
       "      <th>locale</th>\n",
       "      <th>locale_name</th>\n",
       "      <th>description</th>\n",
       "      <th>transferred</th>\n",
       "      <th>dcoilwtico</th>\n",
       "      <th>city</th>\n",
       "      <th>state</th>\n",
       "      <th>type_y</th>\n",
       "      <th>cluster</th>\n",
       "      <th>transactions</th>\n",
       "    </tr>\n",
       "  </thead>\n",
       "  <tbody>\n",
       "    <tr>\n",
       "      <th>0</th>\n",
       "      <td>0</td>\n",
       "      <td>2013-01-01</td>\n",
       "      <td>1</td>\n",
       "      <td>AUTOMOTIVE</td>\n",
       "      <td>0.0</td>\n",
       "      <td>0</td>\n",
       "      <td>Holiday</td>\n",
       "      <td>National</td>\n",
       "      <td>Ecuador</td>\n",
       "      <td>Primer dia del ano</td>\n",
       "      <td>False</td>\n",
       "      <td>93.14</td>\n",
       "      <td>Quito</td>\n",
       "      <td>Pichincha</td>\n",
       "      <td>D</td>\n",
       "      <td>13</td>\n",
       "      <td>NaN</td>\n",
       "    </tr>\n",
       "    <tr>\n",
       "      <th>1</th>\n",
       "      <td>1</td>\n",
       "      <td>2013-01-01</td>\n",
       "      <td>1</td>\n",
       "      <td>BABY CARE</td>\n",
       "      <td>0.0</td>\n",
       "      <td>0</td>\n",
       "      <td>Holiday</td>\n",
       "      <td>National</td>\n",
       "      <td>Ecuador</td>\n",
       "      <td>Primer dia del ano</td>\n",
       "      <td>False</td>\n",
       "      <td>93.14</td>\n",
       "      <td>Quito</td>\n",
       "      <td>Pichincha</td>\n",
       "      <td>D</td>\n",
       "      <td>13</td>\n",
       "      <td>NaN</td>\n",
       "    </tr>\n",
       "    <tr>\n",
       "      <th>2</th>\n",
       "      <td>2</td>\n",
       "      <td>2013-01-01</td>\n",
       "      <td>1</td>\n",
       "      <td>BEAUTY</td>\n",
       "      <td>0.0</td>\n",
       "      <td>0</td>\n",
       "      <td>Holiday</td>\n",
       "      <td>National</td>\n",
       "      <td>Ecuador</td>\n",
       "      <td>Primer dia del ano</td>\n",
       "      <td>False</td>\n",
       "      <td>93.14</td>\n",
       "      <td>Quito</td>\n",
       "      <td>Pichincha</td>\n",
       "      <td>D</td>\n",
       "      <td>13</td>\n",
       "      <td>NaN</td>\n",
       "    </tr>\n",
       "    <tr>\n",
       "      <th>3</th>\n",
       "      <td>3</td>\n",
       "      <td>2013-01-01</td>\n",
       "      <td>1</td>\n",
       "      <td>BEVERAGES</td>\n",
       "      <td>0.0</td>\n",
       "      <td>0</td>\n",
       "      <td>Holiday</td>\n",
       "      <td>National</td>\n",
       "      <td>Ecuador</td>\n",
       "      <td>Primer dia del ano</td>\n",
       "      <td>False</td>\n",
       "      <td>93.14</td>\n",
       "      <td>Quito</td>\n",
       "      <td>Pichincha</td>\n",
       "      <td>D</td>\n",
       "      <td>13</td>\n",
       "      <td>NaN</td>\n",
       "    </tr>\n",
       "    <tr>\n",
       "      <th>4</th>\n",
       "      <td>4</td>\n",
       "      <td>2013-01-01</td>\n",
       "      <td>1</td>\n",
       "      <td>BOOKS</td>\n",
       "      <td>0.0</td>\n",
       "      <td>0</td>\n",
       "      <td>Holiday</td>\n",
       "      <td>National</td>\n",
       "      <td>Ecuador</td>\n",
       "      <td>Primer dia del ano</td>\n",
       "      <td>False</td>\n",
       "      <td>93.14</td>\n",
       "      <td>Quito</td>\n",
       "      <td>Pichincha</td>\n",
       "      <td>D</td>\n",
       "      <td>13</td>\n",
       "      <td>NaN</td>\n",
       "    </tr>\n",
       "  </tbody>\n",
       "</table>\n",
       "</div>"
      ],
      "text/plain": [
       "   id       date  store_nbr      family  sales  onpromotion   type_x   \n",
       "0   0 2013-01-01          1  AUTOMOTIVE    0.0            0  Holiday  \\\n",
       "1   1 2013-01-01          1   BABY CARE    0.0            0  Holiday   \n",
       "2   2 2013-01-01          1      BEAUTY    0.0            0  Holiday   \n",
       "3   3 2013-01-01          1   BEVERAGES    0.0            0  Holiday   \n",
       "4   4 2013-01-01          1       BOOKS    0.0            0  Holiday   \n",
       "\n",
       "     locale locale_name         description transferred  dcoilwtico   city   \n",
       "0  National     Ecuador  Primer dia del ano       False       93.14  Quito  \\\n",
       "1  National     Ecuador  Primer dia del ano       False       93.14  Quito   \n",
       "2  National     Ecuador  Primer dia del ano       False       93.14  Quito   \n",
       "3  National     Ecuador  Primer dia del ano       False       93.14  Quito   \n",
       "4  National     Ecuador  Primer dia del ano       False       93.14  Quito   \n",
       "\n",
       "       state type_y  cluster  transactions  \n",
       "0  Pichincha      D       13           NaN  \n",
       "1  Pichincha      D       13           NaN  \n",
       "2  Pichincha      D       13           NaN  \n",
       "3  Pichincha      D       13           NaN  \n",
       "4  Pichincha      D       13           NaN  "
      ]
     },
     "execution_count": 22,
     "metadata": {},
     "output_type": "execute_result"
    }
   ],
   "source": [
    "df = df.merge(transactions, on = ['date', 'store_nbr'], how = 'left')\n",
    "df.head()"
   ]
  },
  {
   "cell_type": "code",
   "execution_count": 23,
   "metadata": {
    "colab": {
     "base_uri": "https://localhost:8080/",
     "height": 357
    },
    "id": "AiCGst8LVFca",
    "outputId": "a67695ae-8f97-4cd3-acf6-936119356c1b"
   },
   "outputs": [
    {
     "data": {
      "text/html": [
       "<div>\n",
       "<style scoped>\n",
       "    .dataframe tbody tr th:only-of-type {\n",
       "        vertical-align: middle;\n",
       "    }\n",
       "\n",
       "    .dataframe tbody tr th {\n",
       "        vertical-align: top;\n",
       "    }\n",
       "\n",
       "    .dataframe thead th {\n",
       "        text-align: right;\n",
       "    }\n",
       "</style>\n",
       "<table border=\"1\" class=\"dataframe\">\n",
       "  <thead>\n",
       "    <tr style=\"text-align: right;\">\n",
       "      <th></th>\n",
       "      <th>id</th>\n",
       "      <th>date</th>\n",
       "      <th>store_nbr</th>\n",
       "      <th>family</th>\n",
       "      <th>sales</th>\n",
       "      <th>onpromotion</th>\n",
       "      <th>holiday_type</th>\n",
       "      <th>locale</th>\n",
       "      <th>locale_name</th>\n",
       "      <th>description</th>\n",
       "      <th>transferred</th>\n",
       "      <th>dcoilwtico</th>\n",
       "      <th>city</th>\n",
       "      <th>state</th>\n",
       "      <th>store_type</th>\n",
       "      <th>cluster</th>\n",
       "      <th>transactions</th>\n",
       "    </tr>\n",
       "  </thead>\n",
       "  <tbody>\n",
       "    <tr>\n",
       "      <th>0</th>\n",
       "      <td>0</td>\n",
       "      <td>2013-01-01</td>\n",
       "      <td>1</td>\n",
       "      <td>AUTOMOTIVE</td>\n",
       "      <td>0.0</td>\n",
       "      <td>0</td>\n",
       "      <td>Holiday</td>\n",
       "      <td>National</td>\n",
       "      <td>Ecuador</td>\n",
       "      <td>Primer dia del ano</td>\n",
       "      <td>False</td>\n",
       "      <td>93.14</td>\n",
       "      <td>Quito</td>\n",
       "      <td>Pichincha</td>\n",
       "      <td>D</td>\n",
       "      <td>13</td>\n",
       "      <td>NaN</td>\n",
       "    </tr>\n",
       "    <tr>\n",
       "      <th>1</th>\n",
       "      <td>1</td>\n",
       "      <td>2013-01-01</td>\n",
       "      <td>1</td>\n",
       "      <td>BABY CARE</td>\n",
       "      <td>0.0</td>\n",
       "      <td>0</td>\n",
       "      <td>Holiday</td>\n",
       "      <td>National</td>\n",
       "      <td>Ecuador</td>\n",
       "      <td>Primer dia del ano</td>\n",
       "      <td>False</td>\n",
       "      <td>93.14</td>\n",
       "      <td>Quito</td>\n",
       "      <td>Pichincha</td>\n",
       "      <td>D</td>\n",
       "      <td>13</td>\n",
       "      <td>NaN</td>\n",
       "    </tr>\n",
       "    <tr>\n",
       "      <th>2</th>\n",
       "      <td>2</td>\n",
       "      <td>2013-01-01</td>\n",
       "      <td>1</td>\n",
       "      <td>BEAUTY</td>\n",
       "      <td>0.0</td>\n",
       "      <td>0</td>\n",
       "      <td>Holiday</td>\n",
       "      <td>National</td>\n",
       "      <td>Ecuador</td>\n",
       "      <td>Primer dia del ano</td>\n",
       "      <td>False</td>\n",
       "      <td>93.14</td>\n",
       "      <td>Quito</td>\n",
       "      <td>Pichincha</td>\n",
       "      <td>D</td>\n",
       "      <td>13</td>\n",
       "      <td>NaN</td>\n",
       "    </tr>\n",
       "    <tr>\n",
       "      <th>3</th>\n",
       "      <td>3</td>\n",
       "      <td>2013-01-01</td>\n",
       "      <td>1</td>\n",
       "      <td>BEVERAGES</td>\n",
       "      <td>0.0</td>\n",
       "      <td>0</td>\n",
       "      <td>Holiday</td>\n",
       "      <td>National</td>\n",
       "      <td>Ecuador</td>\n",
       "      <td>Primer dia del ano</td>\n",
       "      <td>False</td>\n",
       "      <td>93.14</td>\n",
       "      <td>Quito</td>\n",
       "      <td>Pichincha</td>\n",
       "      <td>D</td>\n",
       "      <td>13</td>\n",
       "      <td>NaN</td>\n",
       "    </tr>\n",
       "    <tr>\n",
       "      <th>4</th>\n",
       "      <td>4</td>\n",
       "      <td>2013-01-01</td>\n",
       "      <td>1</td>\n",
       "      <td>BOOKS</td>\n",
       "      <td>0.0</td>\n",
       "      <td>0</td>\n",
       "      <td>Holiday</td>\n",
       "      <td>National</td>\n",
       "      <td>Ecuador</td>\n",
       "      <td>Primer dia del ano</td>\n",
       "      <td>False</td>\n",
       "      <td>93.14</td>\n",
       "      <td>Quito</td>\n",
       "      <td>Pichincha</td>\n",
       "      <td>D</td>\n",
       "      <td>13</td>\n",
       "      <td>NaN</td>\n",
       "    </tr>\n",
       "  </tbody>\n",
       "</table>\n",
       "</div>"
      ],
      "text/plain": [
       "   id       date  store_nbr      family  sales  onpromotion holiday_type   \n",
       "0   0 2013-01-01          1  AUTOMOTIVE    0.0            0      Holiday  \\\n",
       "1   1 2013-01-01          1   BABY CARE    0.0            0      Holiday   \n",
       "2   2 2013-01-01          1      BEAUTY    0.0            0      Holiday   \n",
       "3   3 2013-01-01          1   BEVERAGES    0.0            0      Holiday   \n",
       "4   4 2013-01-01          1       BOOKS    0.0            0      Holiday   \n",
       "\n",
       "     locale locale_name         description transferred  dcoilwtico   city   \n",
       "0  National     Ecuador  Primer dia del ano       False       93.14  Quito  \\\n",
       "1  National     Ecuador  Primer dia del ano       False       93.14  Quito   \n",
       "2  National     Ecuador  Primer dia del ano       False       93.14  Quito   \n",
       "3  National     Ecuador  Primer dia del ano       False       93.14  Quito   \n",
       "4  National     Ecuador  Primer dia del ano       False       93.14  Quito   \n",
       "\n",
       "       state store_type  cluster  transactions  \n",
       "0  Pichincha          D       13           NaN  \n",
       "1  Pichincha          D       13           NaN  \n",
       "2  Pichincha          D       13           NaN  \n",
       "3  Pichincha          D       13           NaN  \n",
       "4  Pichincha          D       13           NaN  "
      ]
     },
     "execution_count": 23,
     "metadata": {},
     "output_type": "execute_result"
    }
   ],
   "source": [
    "df = df.rename(columns = {'type_x' : \"holiday_type\", \"type_y\" : \"store_type\"})\n",
    "df.head()"
   ]
  },
  {
   "cell_type": "code",
   "execution_count": 24,
   "metadata": {
    "id": "19Yzh8lgVFf7"
   },
   "outputs": [],
   "source": [
    "df['holiday_type'] = df['holiday_type'].replace({np.nan : \"Normal\"})"
   ]
  },
  {
   "cell_type": "code",
   "execution_count": 25,
   "metadata": {
    "id": "opRTJkf3VFjO"
   },
   "outputs": [],
   "source": [
    "#Removing rows having transactions MISSING\n",
    "\n",
    "df = df[df[\"transactions\"].isnull() == False]"
   ]
  },
  {
   "cell_type": "code",
   "execution_count": 26,
   "metadata": {
    "colab": {
     "base_uri": "https://localhost:8080/"
    },
    "id": "YqW-3fi7VFl2",
    "outputId": "21d2104c-0da2-4e51-e1ec-f46524beb557"
   },
   "outputs": [],
   "source": [
    "df[\"dcoilwtico\"] = df[\"dcoilwtico\"].fillna(method = 'bfill')"
   ]
  },
  {
   "cell_type": "code",
   "execution_count": 27,
   "metadata": {
    "colab": {
     "base_uri": "https://localhost:8080/",
     "height": 357
    },
    "id": "WdMDfEdPVFrM",
    "outputId": "9f6854e2-dae2-4814-a32d-f031366950cf"
   },
   "outputs": [
    {
     "data": {
      "text/html": [
       "<div>\n",
       "<style scoped>\n",
       "    .dataframe tbody tr th:only-of-type {\n",
       "        vertical-align: middle;\n",
       "    }\n",
       "\n",
       "    .dataframe tbody tr th {\n",
       "        vertical-align: top;\n",
       "    }\n",
       "\n",
       "    .dataframe thead th {\n",
       "        text-align: right;\n",
       "    }\n",
       "</style>\n",
       "<table border=\"1\" class=\"dataframe\">\n",
       "  <thead>\n",
       "    <tr style=\"text-align: right;\">\n",
       "      <th></th>\n",
       "      <th>id</th>\n",
       "      <th>date</th>\n",
       "      <th>store_nbr</th>\n",
       "      <th>family</th>\n",
       "      <th>sales</th>\n",
       "      <th>onpromotion</th>\n",
       "      <th>holiday_type</th>\n",
       "      <th>locale</th>\n",
       "      <th>locale_name</th>\n",
       "      <th>description</th>\n",
       "      <th>transferred</th>\n",
       "      <th>dcoilwtico</th>\n",
       "      <th>city</th>\n",
       "      <th>state</th>\n",
       "      <th>store_type</th>\n",
       "      <th>cluster</th>\n",
       "      <th>transactions</th>\n",
       "    </tr>\n",
       "  </thead>\n",
       "  <tbody>\n",
       "    <tr>\n",
       "      <th>561</th>\n",
       "      <td>561</td>\n",
       "      <td>2013-01-01</td>\n",
       "      <td>25</td>\n",
       "      <td>AUTOMOTIVE</td>\n",
       "      <td>0.0</td>\n",
       "      <td>0</td>\n",
       "      <td>Holiday</td>\n",
       "      <td>National</td>\n",
       "      <td>Ecuador</td>\n",
       "      <td>Primer dia del ano</td>\n",
       "      <td>False</td>\n",
       "      <td>93.14</td>\n",
       "      <td>Salinas</td>\n",
       "      <td>Santa Elena</td>\n",
       "      <td>D</td>\n",
       "      <td>1</td>\n",
       "      <td>770.0</td>\n",
       "    </tr>\n",
       "    <tr>\n",
       "      <th>562</th>\n",
       "      <td>562</td>\n",
       "      <td>2013-01-01</td>\n",
       "      <td>25</td>\n",
       "      <td>BABY CARE</td>\n",
       "      <td>0.0</td>\n",
       "      <td>0</td>\n",
       "      <td>Holiday</td>\n",
       "      <td>National</td>\n",
       "      <td>Ecuador</td>\n",
       "      <td>Primer dia del ano</td>\n",
       "      <td>False</td>\n",
       "      <td>93.14</td>\n",
       "      <td>Salinas</td>\n",
       "      <td>Santa Elena</td>\n",
       "      <td>D</td>\n",
       "      <td>1</td>\n",
       "      <td>770.0</td>\n",
       "    </tr>\n",
       "    <tr>\n",
       "      <th>563</th>\n",
       "      <td>563</td>\n",
       "      <td>2013-01-01</td>\n",
       "      <td>25</td>\n",
       "      <td>BEAUTY</td>\n",
       "      <td>2.0</td>\n",
       "      <td>0</td>\n",
       "      <td>Holiday</td>\n",
       "      <td>National</td>\n",
       "      <td>Ecuador</td>\n",
       "      <td>Primer dia del ano</td>\n",
       "      <td>False</td>\n",
       "      <td>93.14</td>\n",
       "      <td>Salinas</td>\n",
       "      <td>Santa Elena</td>\n",
       "      <td>D</td>\n",
       "      <td>1</td>\n",
       "      <td>770.0</td>\n",
       "    </tr>\n",
       "    <tr>\n",
       "      <th>564</th>\n",
       "      <td>564</td>\n",
       "      <td>2013-01-01</td>\n",
       "      <td>25</td>\n",
       "      <td>BEVERAGES</td>\n",
       "      <td>810.0</td>\n",
       "      <td>0</td>\n",
       "      <td>Holiday</td>\n",
       "      <td>National</td>\n",
       "      <td>Ecuador</td>\n",
       "      <td>Primer dia del ano</td>\n",
       "      <td>False</td>\n",
       "      <td>93.14</td>\n",
       "      <td>Salinas</td>\n",
       "      <td>Santa Elena</td>\n",
       "      <td>D</td>\n",
       "      <td>1</td>\n",
       "      <td>770.0</td>\n",
       "    </tr>\n",
       "    <tr>\n",
       "      <th>565</th>\n",
       "      <td>565</td>\n",
       "      <td>2013-01-01</td>\n",
       "      <td>25</td>\n",
       "      <td>BOOKS</td>\n",
       "      <td>0.0</td>\n",
       "      <td>0</td>\n",
       "      <td>Holiday</td>\n",
       "      <td>National</td>\n",
       "      <td>Ecuador</td>\n",
       "      <td>Primer dia del ano</td>\n",
       "      <td>False</td>\n",
       "      <td>93.14</td>\n",
       "      <td>Salinas</td>\n",
       "      <td>Santa Elena</td>\n",
       "      <td>D</td>\n",
       "      <td>1</td>\n",
       "      <td>770.0</td>\n",
       "    </tr>\n",
       "  </tbody>\n",
       "</table>\n",
       "</div>"
      ],
      "text/plain": [
       "      id       date  store_nbr      family  sales  onpromotion holiday_type   \n",
       "561  561 2013-01-01         25  AUTOMOTIVE    0.0            0      Holiday  \\\n",
       "562  562 2013-01-01         25   BABY CARE    0.0            0      Holiday   \n",
       "563  563 2013-01-01         25      BEAUTY    2.0            0      Holiday   \n",
       "564  564 2013-01-01         25   BEVERAGES  810.0            0      Holiday   \n",
       "565  565 2013-01-01         25       BOOKS    0.0            0      Holiday   \n",
       "\n",
       "       locale locale_name         description transferred  dcoilwtico   \n",
       "561  National     Ecuador  Primer dia del ano       False       93.14  \\\n",
       "562  National     Ecuador  Primer dia del ano       False       93.14   \n",
       "563  National     Ecuador  Primer dia del ano       False       93.14   \n",
       "564  National     Ecuador  Primer dia del ano       False       93.14   \n",
       "565  National     Ecuador  Primer dia del ano       False       93.14   \n",
       "\n",
       "        city        state store_type  cluster  transactions  \n",
       "561  Salinas  Santa Elena          D        1         770.0  \n",
       "562  Salinas  Santa Elena          D        1         770.0  \n",
       "563  Salinas  Santa Elena          D        1         770.0  \n",
       "564  Salinas  Santa Elena          D        1         770.0  \n",
       "565  Salinas  Santa Elena          D        1         770.0  "
      ]
     },
     "execution_count": 27,
     "metadata": {},
     "output_type": "execute_result"
    }
   ],
   "source": [
    "df.head()"
   ]
  },
  {
   "cell_type": "code",
   "execution_count": 28,
   "metadata": {
    "id": "pr3Hn8YSVFuZ"
   },
   "outputs": [],
   "source": [
    "#Dropping unneeded data\n",
    "\n",
    "df = df.drop(['locale_name', \"description\", \"transferred\"], axis = 1)\n",
    "df = df.drop(['locale', 'family', 'city', 'state', 'cluster', 'store_type'], axis = 1)"
   ]
  },
  {
   "cell_type": "markdown",
   "metadata": {
    "id": "z3KiOL61V5rI"
   },
   "source": [
    "## Encoding Categorical Values"
   ]
  },
  {
   "cell_type": "code",
   "execution_count": 29,
   "metadata": {
    "colab": {
     "base_uri": "https://localhost:8080/",
     "height": 261
    },
    "id": "jKCdFHGgVFyS",
    "outputId": "9bdbf431-1dd6-46f9-d1f4-a792ed4edc55"
   },
   "outputs": [
    {
     "data": {
      "text/html": [
       "<div>\n",
       "<style scoped>\n",
       "    .dataframe tbody tr th:only-of-type {\n",
       "        vertical-align: middle;\n",
       "    }\n",
       "\n",
       "    .dataframe tbody tr th {\n",
       "        vertical-align: top;\n",
       "    }\n",
       "\n",
       "    .dataframe thead th {\n",
       "        text-align: right;\n",
       "    }\n",
       "</style>\n",
       "<table border=\"1\" class=\"dataframe\">\n",
       "  <thead>\n",
       "    <tr style=\"text-align: right;\">\n",
       "      <th></th>\n",
       "      <th>id</th>\n",
       "      <th>date</th>\n",
       "      <th>store_nbr</th>\n",
       "      <th>sales</th>\n",
       "      <th>onpromotion</th>\n",
       "      <th>dcoilwtico</th>\n",
       "      <th>transactions</th>\n",
       "      <th>0</th>\n",
       "      <th>1</th>\n",
       "      <th>2</th>\n",
       "      <th>3</th>\n",
       "      <th>4</th>\n",
       "      <th>5</th>\n",
       "    </tr>\n",
       "  </thead>\n",
       "  <tbody>\n",
       "    <tr>\n",
       "      <th>561</th>\n",
       "      <td>561</td>\n",
       "      <td>2013-01-01</td>\n",
       "      <td>25</td>\n",
       "      <td>0.0</td>\n",
       "      <td>0</td>\n",
       "      <td>93.14</td>\n",
       "      <td>770.0</td>\n",
       "      <td>0.0</td>\n",
       "      <td>0.0</td>\n",
       "      <td>0.0</td>\n",
       "      <td>1.0</td>\n",
       "      <td>0.0</td>\n",
       "      <td>0.0</td>\n",
       "    </tr>\n",
       "    <tr>\n",
       "      <th>562</th>\n",
       "      <td>562</td>\n",
       "      <td>2013-01-01</td>\n",
       "      <td>25</td>\n",
       "      <td>0.0</td>\n",
       "      <td>0</td>\n",
       "      <td>93.14</td>\n",
       "      <td>770.0</td>\n",
       "      <td>0.0</td>\n",
       "      <td>0.0</td>\n",
       "      <td>0.0</td>\n",
       "      <td>1.0</td>\n",
       "      <td>0.0</td>\n",
       "      <td>0.0</td>\n",
       "    </tr>\n",
       "    <tr>\n",
       "      <th>563</th>\n",
       "      <td>563</td>\n",
       "      <td>2013-01-01</td>\n",
       "      <td>25</td>\n",
       "      <td>2.0</td>\n",
       "      <td>0</td>\n",
       "      <td>93.14</td>\n",
       "      <td>770.0</td>\n",
       "      <td>0.0</td>\n",
       "      <td>0.0</td>\n",
       "      <td>0.0</td>\n",
       "      <td>1.0</td>\n",
       "      <td>0.0</td>\n",
       "      <td>0.0</td>\n",
       "    </tr>\n",
       "    <tr>\n",
       "      <th>564</th>\n",
       "      <td>564</td>\n",
       "      <td>2013-01-01</td>\n",
       "      <td>25</td>\n",
       "      <td>810.0</td>\n",
       "      <td>0</td>\n",
       "      <td>93.14</td>\n",
       "      <td>770.0</td>\n",
       "      <td>0.0</td>\n",
       "      <td>0.0</td>\n",
       "      <td>0.0</td>\n",
       "      <td>1.0</td>\n",
       "      <td>0.0</td>\n",
       "      <td>0.0</td>\n",
       "    </tr>\n",
       "    <tr>\n",
       "      <th>565</th>\n",
       "      <td>565</td>\n",
       "      <td>2013-01-01</td>\n",
       "      <td>25</td>\n",
       "      <td>0.0</td>\n",
       "      <td>0</td>\n",
       "      <td>93.14</td>\n",
       "      <td>770.0</td>\n",
       "      <td>0.0</td>\n",
       "      <td>0.0</td>\n",
       "      <td>0.0</td>\n",
       "      <td>1.0</td>\n",
       "      <td>0.0</td>\n",
       "      <td>0.0</td>\n",
       "    </tr>\n",
       "  </tbody>\n",
       "</table>\n",
       "</div>"
      ],
      "text/plain": [
       "      id       date  store_nbr  sales  onpromotion  dcoilwtico  transactions   \n",
       "561  561 2013-01-01         25    0.0            0       93.14         770.0  \\\n",
       "562  562 2013-01-01         25    0.0            0       93.14         770.0   \n",
       "563  563 2013-01-01         25    2.0            0       93.14         770.0   \n",
       "564  564 2013-01-01         25  810.0            0       93.14         770.0   \n",
       "565  565 2013-01-01         25    0.0            0       93.14         770.0   \n",
       "\n",
       "       0    1    2    3    4    5  \n",
       "561  0.0  0.0  0.0  1.0  0.0  0.0  \n",
       "562  0.0  0.0  0.0  1.0  0.0  0.0  \n",
       "563  0.0  0.0  0.0  1.0  0.0  0.0  \n",
       "564  0.0  0.0  0.0  1.0  0.0  0.0  \n",
       "565  0.0  0.0  0.0  1.0  0.0  0.0  "
      ]
     },
     "execution_count": 29,
     "metadata": {},
     "output_type": "execute_result"
    }
   ],
   "source": [
    "#One hot encoding the categorical values -- type_x (store type) and type_y (holiday type)\n",
    "\n",
    "from sklearn.preprocessing import OneHotEncoder\n",
    "low_card_cols = [\"holiday_type\"]\n",
    "low_card_enc = OneHotEncoder(handle_unknown = \"ignore\", sparse = False)\n",
    "low_card_df = pd.DataFrame(low_card_enc.fit_transform(df[low_card_cols])) # creating a seperate Dataframe to hold the encoded values\n",
    "low_card_df.index = df.index #To make sure merging happens correctly\n",
    "df_encoded = pd.concat([df.drop(low_card_cols, axis = 1), low_card_df], axis=1)\n",
    "\n",
    "df_encoded.head()"
   ]
  },
  {
   "cell_type": "markdown",
   "metadata": {
    "id": "u4U-YdvIWHV5"
   },
   "source": [
    "### Dropping columns that wont be needed for prediction"
   ]
  },
  {
   "cell_type": "code",
   "execution_count": 30,
   "metadata": {
    "id": "PhsCeWUXVF1O"
   },
   "outputs": [],
   "source": [
    "df_encoded.drop('store_nbr', axis = 1, inplace = True)\n",
    "df_encoded.drop('id', axis = 1, inplace = True)"
   ]
  },
  {
   "cell_type": "code",
   "execution_count": 31,
   "metadata": {
    "colab": {
     "base_uri": "https://localhost:8080/",
     "height": 206
    },
    "id": "G40fTpplWDHd",
    "outputId": "529efc07-3118-4dc1-f379-1515e68a4cba"
   },
   "outputs": [
    {
     "data": {
      "text/html": [
       "<div>\n",
       "<style scoped>\n",
       "    .dataframe tbody tr th:only-of-type {\n",
       "        vertical-align: middle;\n",
       "    }\n",
       "\n",
       "    .dataframe tbody tr th {\n",
       "        vertical-align: top;\n",
       "    }\n",
       "\n",
       "    .dataframe thead th {\n",
       "        text-align: right;\n",
       "    }\n",
       "</style>\n",
       "<table border=\"1\" class=\"dataframe\">\n",
       "  <thead>\n",
       "    <tr style=\"text-align: right;\">\n",
       "      <th></th>\n",
       "      <th>date</th>\n",
       "      <th>sales</th>\n",
       "      <th>onpromotion</th>\n",
       "      <th>dcoilwtico</th>\n",
       "      <th>transactions</th>\n",
       "      <th>0</th>\n",
       "      <th>1</th>\n",
       "      <th>2</th>\n",
       "      <th>3</th>\n",
       "      <th>4</th>\n",
       "      <th>5</th>\n",
       "    </tr>\n",
       "  </thead>\n",
       "  <tbody>\n",
       "    <tr>\n",
       "      <th>561</th>\n",
       "      <td>2013-01-01</td>\n",
       "      <td>0.0</td>\n",
       "      <td>0</td>\n",
       "      <td>93.14</td>\n",
       "      <td>770.0</td>\n",
       "      <td>0.0</td>\n",
       "      <td>0.0</td>\n",
       "      <td>0.0</td>\n",
       "      <td>1.0</td>\n",
       "      <td>0.0</td>\n",
       "      <td>0.0</td>\n",
       "    </tr>\n",
       "    <tr>\n",
       "      <th>562</th>\n",
       "      <td>2013-01-01</td>\n",
       "      <td>0.0</td>\n",
       "      <td>0</td>\n",
       "      <td>93.14</td>\n",
       "      <td>770.0</td>\n",
       "      <td>0.0</td>\n",
       "      <td>0.0</td>\n",
       "      <td>0.0</td>\n",
       "      <td>1.0</td>\n",
       "      <td>0.0</td>\n",
       "      <td>0.0</td>\n",
       "    </tr>\n",
       "    <tr>\n",
       "      <th>563</th>\n",
       "      <td>2013-01-01</td>\n",
       "      <td>2.0</td>\n",
       "      <td>0</td>\n",
       "      <td>93.14</td>\n",
       "      <td>770.0</td>\n",
       "      <td>0.0</td>\n",
       "      <td>0.0</td>\n",
       "      <td>0.0</td>\n",
       "      <td>1.0</td>\n",
       "      <td>0.0</td>\n",
       "      <td>0.0</td>\n",
       "    </tr>\n",
       "    <tr>\n",
       "      <th>564</th>\n",
       "      <td>2013-01-01</td>\n",
       "      <td>810.0</td>\n",
       "      <td>0</td>\n",
       "      <td>93.14</td>\n",
       "      <td>770.0</td>\n",
       "      <td>0.0</td>\n",
       "      <td>0.0</td>\n",
       "      <td>0.0</td>\n",
       "      <td>1.0</td>\n",
       "      <td>0.0</td>\n",
       "      <td>0.0</td>\n",
       "    </tr>\n",
       "    <tr>\n",
       "      <th>565</th>\n",
       "      <td>2013-01-01</td>\n",
       "      <td>0.0</td>\n",
       "      <td>0</td>\n",
       "      <td>93.14</td>\n",
       "      <td>770.0</td>\n",
       "      <td>0.0</td>\n",
       "      <td>0.0</td>\n",
       "      <td>0.0</td>\n",
       "      <td>1.0</td>\n",
       "      <td>0.0</td>\n",
       "      <td>0.0</td>\n",
       "    </tr>\n",
       "  </tbody>\n",
       "</table>\n",
       "</div>"
      ],
      "text/plain": [
       "          date  sales  onpromotion  dcoilwtico  transactions    0    1    2   \n",
       "561 2013-01-01    0.0            0       93.14         770.0  0.0  0.0  0.0  \\\n",
       "562 2013-01-01    0.0            0       93.14         770.0  0.0  0.0  0.0   \n",
       "563 2013-01-01    2.0            0       93.14         770.0  0.0  0.0  0.0   \n",
       "564 2013-01-01  810.0            0       93.14         770.0  0.0  0.0  0.0   \n",
       "565 2013-01-01    0.0            0       93.14         770.0  0.0  0.0  0.0   \n",
       "\n",
       "       3    4    5  \n",
       "561  1.0  0.0  0.0  \n",
       "562  1.0  0.0  0.0  \n",
       "563  1.0  0.0  0.0  \n",
       "564  1.0  0.0  0.0  \n",
       "565  1.0  0.0  0.0  "
      ]
     },
     "execution_count": 31,
     "metadata": {},
     "output_type": "execute_result"
    }
   ],
   "source": [
    "df_encoded.head()"
   ]
  },
  {
   "cell_type": "code",
   "execution_count": 32,
   "metadata": {
    "colab": {
     "base_uri": "https://localhost:8080/",
     "height": 237
    },
    "id": "xkLT2vRsWDK0",
    "outputId": "b8c8ac82-d0b3-4de7-c4d8-2ffb1589135c"
   },
   "outputs": [
    {
     "data": {
      "text/html": [
       "<div>\n",
       "<style scoped>\n",
       "    .dataframe tbody tr th:only-of-type {\n",
       "        vertical-align: middle;\n",
       "    }\n",
       "\n",
       "    .dataframe tbody tr th {\n",
       "        vertical-align: top;\n",
       "    }\n",
       "\n",
       "    .dataframe thead th {\n",
       "        text-align: right;\n",
       "    }\n",
       "</style>\n",
       "<table border=\"1\" class=\"dataframe\">\n",
       "  <thead>\n",
       "    <tr style=\"text-align: right;\">\n",
       "      <th></th>\n",
       "      <th>sales</th>\n",
       "      <th>onpromotion</th>\n",
       "      <th>dcoilwtico</th>\n",
       "      <th>transactions</th>\n",
       "      <th>0</th>\n",
       "      <th>1</th>\n",
       "      <th>2</th>\n",
       "      <th>3</th>\n",
       "      <th>4</th>\n",
       "      <th>5</th>\n",
       "    </tr>\n",
       "    <tr>\n",
       "      <th>date</th>\n",
       "      <th></th>\n",
       "      <th></th>\n",
       "      <th></th>\n",
       "      <th></th>\n",
       "      <th></th>\n",
       "      <th></th>\n",
       "      <th></th>\n",
       "      <th></th>\n",
       "      <th></th>\n",
       "      <th></th>\n",
       "    </tr>\n",
       "  </thead>\n",
       "  <tbody>\n",
       "    <tr>\n",
       "      <th>2013-01-01</th>\n",
       "      <td>76.109667</td>\n",
       "      <td>0.0</td>\n",
       "      <td>93.14</td>\n",
       "      <td>770.000000</td>\n",
       "      <td>0.0</td>\n",
       "      <td>0.0</td>\n",
       "      <td>0.0</td>\n",
       "      <td>1.0</td>\n",
       "      <td>0.0</td>\n",
       "      <td>0.0</td>\n",
       "    </tr>\n",
       "    <tr>\n",
       "      <th>2013-01-02</th>\n",
       "      <td>326.806599</td>\n",
       "      <td>0.0</td>\n",
       "      <td>93.14</td>\n",
       "      <td>2026.413043</td>\n",
       "      <td>0.0</td>\n",
       "      <td>0.0</td>\n",
       "      <td>0.0</td>\n",
       "      <td>0.0</td>\n",
       "      <td>1.0</td>\n",
       "      <td>0.0</td>\n",
       "    </tr>\n",
       "    <tr>\n",
       "      <th>2013-01-03</th>\n",
       "      <td>238.116753</td>\n",
       "      <td>0.0</td>\n",
       "      <td>92.97</td>\n",
       "      <td>1706.608696</td>\n",
       "      <td>0.0</td>\n",
       "      <td>0.0</td>\n",
       "      <td>0.0</td>\n",
       "      <td>0.0</td>\n",
       "      <td>1.0</td>\n",
       "      <td>0.0</td>\n",
       "    </tr>\n",
       "    <tr>\n",
       "      <th>2013-01-04</th>\n",
       "      <td>233.504399</td>\n",
       "      <td>0.0</td>\n",
       "      <td>93.12</td>\n",
       "      <td>1706.391304</td>\n",
       "      <td>0.0</td>\n",
       "      <td>0.0</td>\n",
       "      <td>0.0</td>\n",
       "      <td>0.0</td>\n",
       "      <td>1.0</td>\n",
       "      <td>0.0</td>\n",
       "    </tr>\n",
       "    <tr>\n",
       "      <th>2013-01-05</th>\n",
       "      <td>314.459895</td>\n",
       "      <td>0.0</td>\n",
       "      <td>93.20</td>\n",
       "      <td>2034.195652</td>\n",
       "      <td>0.0</td>\n",
       "      <td>0.0</td>\n",
       "      <td>0.0</td>\n",
       "      <td>0.0</td>\n",
       "      <td>0.0</td>\n",
       "      <td>1.0</td>\n",
       "    </tr>\n",
       "  </tbody>\n",
       "</table>\n",
       "</div>"
      ],
      "text/plain": [
       "                 sales  onpromotion  dcoilwtico  transactions    0    1    2   \n",
       "date                                                                           \n",
       "2013-01-01   76.109667          0.0       93.14    770.000000  0.0  0.0  0.0  \\\n",
       "2013-01-02  326.806599          0.0       93.14   2026.413043  0.0  0.0  0.0   \n",
       "2013-01-03  238.116753          0.0       92.97   1706.608696  0.0  0.0  0.0   \n",
       "2013-01-04  233.504399          0.0       93.12   1706.391304  0.0  0.0  0.0   \n",
       "2013-01-05  314.459895          0.0       93.20   2034.195652  0.0  0.0  0.0   \n",
       "\n",
       "              3    4    5  \n",
       "date                       \n",
       "2013-01-01  1.0  0.0  0.0  \n",
       "2013-01-02  0.0  1.0  0.0  \n",
       "2013-01-03  0.0  1.0  0.0  \n",
       "2013-01-04  0.0  1.0  0.0  \n",
       "2013-01-05  0.0  0.0  1.0  "
      ]
     },
     "execution_count": 32,
     "metadata": {},
     "output_type": "execute_result"
    }
   ],
   "source": [
    "df_f = df_encoded.groupby(\"date\").agg(np.mean) # Grouping the dataframe results into 1 row for each date and taking mean of all the other values and aggregating into one record\n",
    "df_f.head()"
   ]
  },
  {
   "cell_type": "code",
   "execution_count": 33,
   "metadata": {
    "colab": {
     "base_uri": "https://localhost:8080/"
    },
    "id": "s44JTJndWDOw",
    "outputId": "74d3590c-8d66-44de-9e2c-e1b8995e3164"
   },
   "outputs": [
    {
     "data": {
      "text/plain": [
       "sales           0\n",
       "onpromotion     0\n",
       "dcoilwtico      0\n",
       "transactions    0\n",
       "0               0\n",
       "1               0\n",
       "2               0\n",
       "3               0\n",
       "4               0\n",
       "5               0\n",
       "dtype: int64"
      ]
     },
     "execution_count": 33,
     "metadata": {},
     "output_type": "execute_result"
    }
   ],
   "source": [
    "df_f.isnull().sum()  #Final dataset doesnt have any missing values, thats good! "
   ]
  },
  {
   "cell_type": "code",
   "execution_count": 34,
   "metadata": {
    "id": "ku7i9QJtWDSJ"
   },
   "outputs": [],
   "source": [
    "df_f = df_f.astype('float64')  #Converting all features to float values"
   ]
  },
  {
   "cell_type": "markdown",
   "metadata": {
    "id": "Z77cG8EHWf_e"
   },
   "source": [
    "### Function to create dataframe with WINDOW = 1 and LAG = 1 for Time Series Analysis"
   ]
  },
  {
   "cell_type": "code",
   "execution_count": 35,
   "metadata": {
    "id": "wbDoEycKWDVH"
   },
   "outputs": [],
   "source": [
    "def series_to_supervised2(data, n_in=1, n_out=1, dropnan=True):\n",
    "    n_vars = 1 if type(data) is list else data.shape[1]\n",
    "    df = pd.DataFrame(data)\n",
    "    cols, names = list(), list()\n",
    "    # input sequence (t-n, ... t-1)\n",
    "    for i in range(n_in, 0, -1):\n",
    "        cols.append(df.shift(i))\n",
    "        names += [('var%d(t-%d)' % (j+1, i)) for j in range(n_vars)]\n",
    "    # forecast sequence (t, t+1, ... t+n)\n",
    "    for i in range(0, n_out):\n",
    "        cols.append(df.shift(-i))\n",
    "        if i == 0:\n",
    "            names += [('var%d(t)' % (j+1)) for j in range(n_vars)]\n",
    "        else:\n",
    "            names += [('var%d(t+%d)' % (j+1, i)) for j in range(n_vars)]\n",
    "    # put it all together\n",
    "    agg = pd.concat(cols, axis=1)\n",
    "    agg.columns = names\n",
    "    # drop rows with NaN values\n",
    "    if dropnan:\n",
    "        agg.dropna(inplace=True)\n",
    "    return agg"
   ]
  },
  {
   "cell_type": "code",
   "execution_count": 36,
   "metadata": {
    "id": "wYxM3G-EWDYi"
   },
   "outputs": [],
   "source": [
    "### Normalizing Data for faster LSTM fitting"
   ]
  },
  {
   "cell_type": "code",
   "execution_count": 37,
   "metadata": {
    "id": "uNMCJIoZWDbC"
   },
   "outputs": [],
   "source": [
    "values = df_f.values"
   ]
  },
  {
   "cell_type": "code",
   "execution_count": 38,
   "metadata": {
    "id": "e0i0IL3BWDeL"
   },
   "outputs": [],
   "source": [
    "from sklearn.preprocessing import MinMaxScaler\n",
    "scaler = MinMaxScaler(feature_range = (0,1))\n",
    "\n",
    "scaled_df_split = scaler.fit_transform(values)"
   ]
  },
  {
   "cell_type": "code",
   "execution_count": 39,
   "metadata": {
    "id": "xhfRrmqXWDiA"
   },
   "outputs": [],
   "source": [
    "window = 1\n",
    "lag = 1\n",
    "series = series_to_supervised2(scaled_df_split, n_in=window, n_out=lag)"
   ]
  },
  {
   "cell_type": "code",
   "execution_count": 40,
   "metadata": {
    "colab": {
     "base_uri": "https://localhost:8080/",
     "height": 287
    },
    "id": "6Gmjkq0qWDkf",
    "outputId": "a6102eff-9e5e-4cf5-d8fc-15432c92f45c"
   },
   "outputs": [
    {
     "data": {
      "text/html": [
       "<div>\n",
       "<style scoped>\n",
       "    .dataframe tbody tr th:only-of-type {\n",
       "        vertical-align: middle;\n",
       "    }\n",
       "\n",
       "    .dataframe tbody tr th {\n",
       "        vertical-align: top;\n",
       "    }\n",
       "\n",
       "    .dataframe thead th {\n",
       "        text-align: right;\n",
       "    }\n",
       "</style>\n",
       "<table border=\"1\" class=\"dataframe\">\n",
       "  <thead>\n",
       "    <tr style=\"text-align: right;\">\n",
       "      <th></th>\n",
       "      <th>var1(t-1)</th>\n",
       "      <th>var2(t-1)</th>\n",
       "      <th>var3(t-1)</th>\n",
       "      <th>var4(t-1)</th>\n",
       "      <th>var5(t-1)</th>\n",
       "      <th>var6(t-1)</th>\n",
       "      <th>var7(t-1)</th>\n",
       "      <th>var8(t-1)</th>\n",
       "      <th>var9(t-1)</th>\n",
       "      <th>var10(t-1)</th>\n",
       "      <th>var1(t)</th>\n",
       "      <th>var2(t)</th>\n",
       "      <th>var3(t)</th>\n",
       "      <th>var4(t)</th>\n",
       "      <th>var5(t)</th>\n",
       "      <th>var6(t)</th>\n",
       "      <th>var7(t)</th>\n",
       "      <th>var8(t)</th>\n",
       "      <th>var9(t)</th>\n",
       "      <th>var10(t)</th>\n",
       "    </tr>\n",
       "  </thead>\n",
       "  <tbody>\n",
       "    <tr>\n",
       "      <th>1</th>\n",
       "      <td>0.000000</td>\n",
       "      <td>0.0</td>\n",
       "      <td>0.792965</td>\n",
       "      <td>0.040153</td>\n",
       "      <td>0.0</td>\n",
       "      <td>0.0</td>\n",
       "      <td>0.0</td>\n",
       "      <td>1.0</td>\n",
       "      <td>0.0</td>\n",
       "      <td>0.0</td>\n",
       "      <td>0.329684</td>\n",
       "      <td>0.0</td>\n",
       "      <td>0.792965</td>\n",
       "      <td>0.513847</td>\n",
       "      <td>0.0</td>\n",
       "      <td>0.0</td>\n",
       "      <td>0.0</td>\n",
       "      <td>0.0</td>\n",
       "      <td>1.0</td>\n",
       "      <td>0.0</td>\n",
       "    </tr>\n",
       "    <tr>\n",
       "      <th>2</th>\n",
       "      <td>0.329684</td>\n",
       "      <td>0.0</td>\n",
       "      <td>0.792965</td>\n",
       "      <td>0.513847</td>\n",
       "      <td>0.0</td>\n",
       "      <td>0.0</td>\n",
       "      <td>0.0</td>\n",
       "      <td>0.0</td>\n",
       "      <td>1.0</td>\n",
       "      <td>0.0</td>\n",
       "      <td>0.213051</td>\n",
       "      <td>0.0</td>\n",
       "      <td>0.790951</td>\n",
       "      <td>0.393274</td>\n",
       "      <td>0.0</td>\n",
       "      <td>0.0</td>\n",
       "      <td>0.0</td>\n",
       "      <td>0.0</td>\n",
       "      <td>1.0</td>\n",
       "      <td>0.0</td>\n",
       "    </tr>\n",
       "    <tr>\n",
       "      <th>3</th>\n",
       "      <td>0.213051</td>\n",
       "      <td>0.0</td>\n",
       "      <td>0.790951</td>\n",
       "      <td>0.393274</td>\n",
       "      <td>0.0</td>\n",
       "      <td>0.0</td>\n",
       "      <td>0.0</td>\n",
       "      <td>0.0</td>\n",
       "      <td>1.0</td>\n",
       "      <td>0.0</td>\n",
       "      <td>0.206985</td>\n",
       "      <td>0.0</td>\n",
       "      <td>0.792728</td>\n",
       "      <td>0.393192</td>\n",
       "      <td>0.0</td>\n",
       "      <td>0.0</td>\n",
       "      <td>0.0</td>\n",
       "      <td>0.0</td>\n",
       "      <td>1.0</td>\n",
       "      <td>0.0</td>\n",
       "    </tr>\n",
       "    <tr>\n",
       "      <th>4</th>\n",
       "      <td>0.206985</td>\n",
       "      <td>0.0</td>\n",
       "      <td>0.792728</td>\n",
       "      <td>0.393192</td>\n",
       "      <td>0.0</td>\n",
       "      <td>0.0</td>\n",
       "      <td>0.0</td>\n",
       "      <td>0.0</td>\n",
       "      <td>1.0</td>\n",
       "      <td>0.0</td>\n",
       "      <td>0.313447</td>\n",
       "      <td>0.0</td>\n",
       "      <td>0.793675</td>\n",
       "      <td>0.516781</td>\n",
       "      <td>0.0</td>\n",
       "      <td>0.0</td>\n",
       "      <td>0.0</td>\n",
       "      <td>0.0</td>\n",
       "      <td>0.0</td>\n",
       "      <td>1.0</td>\n",
       "    </tr>\n",
       "    <tr>\n",
       "      <th>5</th>\n",
       "      <td>0.313447</td>\n",
       "      <td>0.0</td>\n",
       "      <td>0.793675</td>\n",
       "      <td>0.516781</td>\n",
       "      <td>0.0</td>\n",
       "      <td>0.0</td>\n",
       "      <td>0.0</td>\n",
       "      <td>0.0</td>\n",
       "      <td>0.0</td>\n",
       "      <td>1.0</td>\n",
       "      <td>0.350131</td>\n",
       "      <td>0.0</td>\n",
       "      <td>0.793675</td>\n",
       "      <td>0.491299</td>\n",
       "      <td>0.0</td>\n",
       "      <td>0.0</td>\n",
       "      <td>0.0</td>\n",
       "      <td>0.0</td>\n",
       "      <td>1.0</td>\n",
       "      <td>0.0</td>\n",
       "    </tr>\n",
       "  </tbody>\n",
       "</table>\n",
       "</div>"
      ],
      "text/plain": [
       "   var1(t-1)  var2(t-1)  var3(t-1)  var4(t-1)  var5(t-1)  var6(t-1)   \n",
       "1   0.000000        0.0   0.792965   0.040153        0.0        0.0  \\\n",
       "2   0.329684        0.0   0.792965   0.513847        0.0        0.0   \n",
       "3   0.213051        0.0   0.790951   0.393274        0.0        0.0   \n",
       "4   0.206985        0.0   0.792728   0.393192        0.0        0.0   \n",
       "5   0.313447        0.0   0.793675   0.516781        0.0        0.0   \n",
       "\n",
       "   var7(t-1)  var8(t-1)  var9(t-1)  var10(t-1)   var1(t)  var2(t)   var3(t)   \n",
       "1        0.0        1.0        0.0         0.0  0.329684      0.0  0.792965  \\\n",
       "2        0.0        0.0        1.0         0.0  0.213051      0.0  0.790951   \n",
       "3        0.0        0.0        1.0         0.0  0.206985      0.0  0.792728   \n",
       "4        0.0        0.0        1.0         0.0  0.313447      0.0  0.793675   \n",
       "5        0.0        0.0        0.0         1.0  0.350131      0.0  0.793675   \n",
       "\n",
       "    var4(t)  var5(t)  var6(t)  var7(t)  var8(t)  var9(t)  var10(t)  \n",
       "1  0.513847      0.0      0.0      0.0      0.0      1.0       0.0  \n",
       "2  0.393274      0.0      0.0      0.0      0.0      1.0       0.0  \n",
       "3  0.393192      0.0      0.0      0.0      0.0      1.0       0.0  \n",
       "4  0.516781      0.0      0.0      0.0      0.0      0.0       1.0  \n",
       "5  0.491299      0.0      0.0      0.0      0.0      1.0       0.0  "
      ]
     },
     "execution_count": 40,
     "metadata": {},
     "output_type": "execute_result"
    }
   ],
   "source": [
    "series.head()"
   ]
  },
  {
   "cell_type": "code",
   "execution_count": 41,
   "metadata": {
    "colab": {
     "base_uri": "https://localhost:8080/",
     "height": 676
    },
    "id": "FC9ShpdQVF4Y",
    "outputId": "36ec7a29-47d7-4a02-a54f-125638e02caf"
   },
   "outputs": [
    {
     "data": {
      "text/html": [
       "<div>\n",
       "<style scoped>\n",
       "    .dataframe tbody tr th:only-of-type {\n",
       "        vertical-align: middle;\n",
       "    }\n",
       "\n",
       "    .dataframe tbody tr th {\n",
       "        vertical-align: top;\n",
       "    }\n",
       "\n",
       "    .dataframe thead th {\n",
       "        text-align: right;\n",
       "    }\n",
       "</style>\n",
       "<table border=\"1\" class=\"dataframe\">\n",
       "  <thead>\n",
       "    <tr style=\"text-align: right;\">\n",
       "      <th></th>\n",
       "      <th>count</th>\n",
       "      <th>mean</th>\n",
       "      <th>std</th>\n",
       "      <th>min</th>\n",
       "      <th>25%</th>\n",
       "      <th>50%</th>\n",
       "      <th>75%</th>\n",
       "      <th>max</th>\n",
       "    </tr>\n",
       "  </thead>\n",
       "  <tbody>\n",
       "    <tr>\n",
       "      <th>var1(t-1)</th>\n",
       "      <td>1681.0</td>\n",
       "      <td>0.404823</td>\n",
       "      <td>0.166000</td>\n",
       "      <td>0.000000</td>\n",
       "      <td>0.272295</td>\n",
       "      <td>0.396531</td>\n",
       "      <td>0.507581</td>\n",
       "      <td>1.0</td>\n",
       "    </tr>\n",
       "    <tr>\n",
       "      <th>var2(t-1)</th>\n",
       "      <td>1681.0</td>\n",
       "      <td>0.175176</td>\n",
       "      <td>0.201670</td>\n",
       "      <td>0.000000</td>\n",
       "      <td>0.000000</td>\n",
       "      <td>0.089498</td>\n",
       "      <td>0.317307</td>\n",
       "      <td>1.0</td>\n",
       "    </tr>\n",
       "    <tr>\n",
       "      <th>var3(t-1)</th>\n",
       "      <td>1681.0</td>\n",
       "      <td>0.494151</td>\n",
       "      <td>0.304485</td>\n",
       "      <td>0.000000</td>\n",
       "      <td>0.239015</td>\n",
       "      <td>0.320028</td>\n",
       "      <td>0.824588</td>\n",
       "      <td>1.0</td>\n",
       "    </tr>\n",
       "    <tr>\n",
       "      <th>var4(t-1)</th>\n",
       "      <td>1681.0</td>\n",
       "      <td>0.389117</td>\n",
       "      <td>0.085515</td>\n",
       "      <td>0.000000</td>\n",
       "      <td>0.332889</td>\n",
       "      <td>0.366886</td>\n",
       "      <td>0.434524</td>\n",
       "      <td>1.0</td>\n",
       "    </tr>\n",
       "    <tr>\n",
       "      <th>var5(t-1)</th>\n",
       "      <td>1681.0</td>\n",
       "      <td>0.020523</td>\n",
       "      <td>0.138104</td>\n",
       "      <td>0.000000</td>\n",
       "      <td>0.000000</td>\n",
       "      <td>0.000000</td>\n",
       "      <td>0.000000</td>\n",
       "      <td>1.0</td>\n",
       "    </tr>\n",
       "    <tr>\n",
       "      <th>var6(t-1)</th>\n",
       "      <td>1681.0</td>\n",
       "      <td>0.001487</td>\n",
       "      <td>0.036566</td>\n",
       "      <td>0.000000</td>\n",
       "      <td>0.000000</td>\n",
       "      <td>0.000000</td>\n",
       "      <td>0.000000</td>\n",
       "      <td>1.0</td>\n",
       "    </tr>\n",
       "    <tr>\n",
       "      <th>var7(t-1)</th>\n",
       "      <td>1681.0</td>\n",
       "      <td>0.030785</td>\n",
       "      <td>0.170293</td>\n",
       "      <td>0.000000</td>\n",
       "      <td>0.000000</td>\n",
       "      <td>0.000000</td>\n",
       "      <td>0.000000</td>\n",
       "      <td>1.0</td>\n",
       "    </tr>\n",
       "    <tr>\n",
       "      <th>var8(t-1)</th>\n",
       "      <td>1681.0</td>\n",
       "      <td>0.088192</td>\n",
       "      <td>0.281089</td>\n",
       "      <td>0.000000</td>\n",
       "      <td>0.000000</td>\n",
       "      <td>0.000000</td>\n",
       "      <td>0.000000</td>\n",
       "      <td>1.0</td>\n",
       "    </tr>\n",
       "    <tr>\n",
       "      <th>var9(t-1)</th>\n",
       "      <td>1681.0</td>\n",
       "      <td>0.856336</td>\n",
       "      <td>0.350641</td>\n",
       "      <td>0.000000</td>\n",
       "      <td>1.000000</td>\n",
       "      <td>1.000000</td>\n",
       "      <td>1.000000</td>\n",
       "      <td>1.0</td>\n",
       "    </tr>\n",
       "    <tr>\n",
       "      <th>var10(t-1)</th>\n",
       "      <td>1681.0</td>\n",
       "      <td>0.002677</td>\n",
       "      <td>0.050225</td>\n",
       "      <td>0.000000</td>\n",
       "      <td>0.000000</td>\n",
       "      <td>0.000000</td>\n",
       "      <td>0.000000</td>\n",
       "      <td>1.0</td>\n",
       "    </tr>\n",
       "    <tr>\n",
       "      <th>var1(t)</th>\n",
       "      <td>1681.0</td>\n",
       "      <td>0.405099</td>\n",
       "      <td>0.165712</td>\n",
       "      <td>0.071309</td>\n",
       "      <td>0.272663</td>\n",
       "      <td>0.396534</td>\n",
       "      <td>0.507581</td>\n",
       "      <td>1.0</td>\n",
       "    </tr>\n",
       "    <tr>\n",
       "      <th>var2(t)</th>\n",
       "      <td>1681.0</td>\n",
       "      <td>0.175406</td>\n",
       "      <td>0.201691</td>\n",
       "      <td>0.000000</td>\n",
       "      <td>0.000000</td>\n",
       "      <td>0.090540</td>\n",
       "      <td>0.317337</td>\n",
       "      <td>1.0</td>\n",
       "    </tr>\n",
       "    <tr>\n",
       "      <th>var3(t)</th>\n",
       "      <td>1681.0</td>\n",
       "      <td>0.493830</td>\n",
       "      <td>0.304454</td>\n",
       "      <td>0.000000</td>\n",
       "      <td>0.239015</td>\n",
       "      <td>0.319792</td>\n",
       "      <td>0.824588</td>\n",
       "      <td>1.0</td>\n",
       "    </tr>\n",
       "    <tr>\n",
       "      <th>var4(t)</th>\n",
       "      <td>1681.0</td>\n",
       "      <td>0.389304</td>\n",
       "      <td>0.085094</td>\n",
       "      <td>0.000000</td>\n",
       "      <td>0.332914</td>\n",
       "      <td>0.366886</td>\n",
       "      <td>0.434524</td>\n",
       "      <td>1.0</td>\n",
       "    </tr>\n",
       "    <tr>\n",
       "      <th>var5(t)</th>\n",
       "      <td>1681.0</td>\n",
       "      <td>0.020523</td>\n",
       "      <td>0.138104</td>\n",
       "      <td>0.000000</td>\n",
       "      <td>0.000000</td>\n",
       "      <td>0.000000</td>\n",
       "      <td>0.000000</td>\n",
       "      <td>1.0</td>\n",
       "    </tr>\n",
       "    <tr>\n",
       "      <th>var6(t)</th>\n",
       "      <td>1681.0</td>\n",
       "      <td>0.001487</td>\n",
       "      <td>0.036566</td>\n",
       "      <td>0.000000</td>\n",
       "      <td>0.000000</td>\n",
       "      <td>0.000000</td>\n",
       "      <td>0.000000</td>\n",
       "      <td>1.0</td>\n",
       "    </tr>\n",
       "    <tr>\n",
       "      <th>var7(t)</th>\n",
       "      <td>1681.0</td>\n",
       "      <td>0.030785</td>\n",
       "      <td>0.170293</td>\n",
       "      <td>0.000000</td>\n",
       "      <td>0.000000</td>\n",
       "      <td>0.000000</td>\n",
       "      <td>0.000000</td>\n",
       "      <td>1.0</td>\n",
       "    </tr>\n",
       "    <tr>\n",
       "      <th>var8(t)</th>\n",
       "      <td>1681.0</td>\n",
       "      <td>0.088192</td>\n",
       "      <td>0.281089</td>\n",
       "      <td>0.000000</td>\n",
       "      <td>0.000000</td>\n",
       "      <td>0.000000</td>\n",
       "      <td>0.000000</td>\n",
       "      <td>1.0</td>\n",
       "    </tr>\n",
       "    <tr>\n",
       "      <th>var9(t)</th>\n",
       "      <td>1681.0</td>\n",
       "      <td>0.856336</td>\n",
       "      <td>0.350641</td>\n",
       "      <td>0.000000</td>\n",
       "      <td>1.000000</td>\n",
       "      <td>1.000000</td>\n",
       "      <td>1.000000</td>\n",
       "      <td>1.0</td>\n",
       "    </tr>\n",
       "    <tr>\n",
       "      <th>var10(t)</th>\n",
       "      <td>1681.0</td>\n",
       "      <td>0.002677</td>\n",
       "      <td>0.050225</td>\n",
       "      <td>0.000000</td>\n",
       "      <td>0.000000</td>\n",
       "      <td>0.000000</td>\n",
       "      <td>0.000000</td>\n",
       "      <td>1.0</td>\n",
       "    </tr>\n",
       "  </tbody>\n",
       "</table>\n",
       "</div>"
      ],
      "text/plain": [
       "             count      mean       std       min       25%       50%   \n",
       "var1(t-1)   1681.0  0.404823  0.166000  0.000000  0.272295  0.396531  \\\n",
       "var2(t-1)   1681.0  0.175176  0.201670  0.000000  0.000000  0.089498   \n",
       "var3(t-1)   1681.0  0.494151  0.304485  0.000000  0.239015  0.320028   \n",
       "var4(t-1)   1681.0  0.389117  0.085515  0.000000  0.332889  0.366886   \n",
       "var5(t-1)   1681.0  0.020523  0.138104  0.000000  0.000000  0.000000   \n",
       "var6(t-1)   1681.0  0.001487  0.036566  0.000000  0.000000  0.000000   \n",
       "var7(t-1)   1681.0  0.030785  0.170293  0.000000  0.000000  0.000000   \n",
       "var8(t-1)   1681.0  0.088192  0.281089  0.000000  0.000000  0.000000   \n",
       "var9(t-1)   1681.0  0.856336  0.350641  0.000000  1.000000  1.000000   \n",
       "var10(t-1)  1681.0  0.002677  0.050225  0.000000  0.000000  0.000000   \n",
       "var1(t)     1681.0  0.405099  0.165712  0.071309  0.272663  0.396534   \n",
       "var2(t)     1681.0  0.175406  0.201691  0.000000  0.000000  0.090540   \n",
       "var3(t)     1681.0  0.493830  0.304454  0.000000  0.239015  0.319792   \n",
       "var4(t)     1681.0  0.389304  0.085094  0.000000  0.332914  0.366886   \n",
       "var5(t)     1681.0  0.020523  0.138104  0.000000  0.000000  0.000000   \n",
       "var6(t)     1681.0  0.001487  0.036566  0.000000  0.000000  0.000000   \n",
       "var7(t)     1681.0  0.030785  0.170293  0.000000  0.000000  0.000000   \n",
       "var8(t)     1681.0  0.088192  0.281089  0.000000  0.000000  0.000000   \n",
       "var9(t)     1681.0  0.856336  0.350641  0.000000  1.000000  1.000000   \n",
       "var10(t)    1681.0  0.002677  0.050225  0.000000  0.000000  0.000000   \n",
       "\n",
       "                 75%  max  \n",
       "var1(t-1)   0.507581  1.0  \n",
       "var2(t-1)   0.317307  1.0  \n",
       "var3(t-1)   0.824588  1.0  \n",
       "var4(t-1)   0.434524  1.0  \n",
       "var5(t-1)   0.000000  1.0  \n",
       "var6(t-1)   0.000000  1.0  \n",
       "var7(t-1)   0.000000  1.0  \n",
       "var8(t-1)   0.000000  1.0  \n",
       "var9(t-1)   1.000000  1.0  \n",
       "var10(t-1)  0.000000  1.0  \n",
       "var1(t)     0.507581  1.0  \n",
       "var2(t)     0.317337  1.0  \n",
       "var3(t)     0.824588  1.0  \n",
       "var4(t)     0.434524  1.0  \n",
       "var5(t)     0.000000  1.0  \n",
       "var6(t)     0.000000  1.0  \n",
       "var7(t)     0.000000  1.0  \n",
       "var8(t)     0.000000  1.0  \n",
       "var9(t)     1.000000  1.0  \n",
       "var10(t)    0.000000  1.0  "
      ]
     },
     "execution_count": 41,
     "metadata": {},
     "output_type": "execute_result"
    }
   ],
   "source": [
    "series.describe().transpose()"
   ]
  },
  {
   "cell_type": "code",
   "execution_count": 42,
   "metadata": {
    "id": "90tmOwWjVF7j"
   },
   "outputs": [],
   "source": [
    "#These are the columns we dont want to predict, we drop them. We only have to predict sales and not the rest.\n",
    "series.drop(series.columns[[11,12,13,14,15,16,17,18,19]], axis=1, inplace=True)"
   ]
  },
  {
   "cell_type": "code",
   "execution_count": 43,
   "metadata": {
    "colab": {
     "base_uri": "https://localhost:8080/",
     "height": 206
    },
    "id": "l2eqtIPvVF97",
    "outputId": "218525f4-2b4d-4f16-d647-a1563eca73a0"
   },
   "outputs": [
    {
     "data": {
      "text/html": [
       "<div>\n",
       "<style scoped>\n",
       "    .dataframe tbody tr th:only-of-type {\n",
       "        vertical-align: middle;\n",
       "    }\n",
       "\n",
       "    .dataframe tbody tr th {\n",
       "        vertical-align: top;\n",
       "    }\n",
       "\n",
       "    .dataframe thead th {\n",
       "        text-align: right;\n",
       "    }\n",
       "</style>\n",
       "<table border=\"1\" class=\"dataframe\">\n",
       "  <thead>\n",
       "    <tr style=\"text-align: right;\">\n",
       "      <th></th>\n",
       "      <th>var1(t-1)</th>\n",
       "      <th>var2(t-1)</th>\n",
       "      <th>var3(t-1)</th>\n",
       "      <th>var4(t-1)</th>\n",
       "      <th>var5(t-1)</th>\n",
       "      <th>var6(t-1)</th>\n",
       "      <th>var7(t-1)</th>\n",
       "      <th>var8(t-1)</th>\n",
       "      <th>var9(t-1)</th>\n",
       "      <th>var10(t-1)</th>\n",
       "      <th>var1(t)</th>\n",
       "    </tr>\n",
       "  </thead>\n",
       "  <tbody>\n",
       "    <tr>\n",
       "      <th>1</th>\n",
       "      <td>0.000000</td>\n",
       "      <td>0.0</td>\n",
       "      <td>0.792965</td>\n",
       "      <td>0.040153</td>\n",
       "      <td>0.0</td>\n",
       "      <td>0.0</td>\n",
       "      <td>0.0</td>\n",
       "      <td>1.0</td>\n",
       "      <td>0.0</td>\n",
       "      <td>0.0</td>\n",
       "      <td>0.329684</td>\n",
       "    </tr>\n",
       "    <tr>\n",
       "      <th>2</th>\n",
       "      <td>0.329684</td>\n",
       "      <td>0.0</td>\n",
       "      <td>0.792965</td>\n",
       "      <td>0.513847</td>\n",
       "      <td>0.0</td>\n",
       "      <td>0.0</td>\n",
       "      <td>0.0</td>\n",
       "      <td>0.0</td>\n",
       "      <td>1.0</td>\n",
       "      <td>0.0</td>\n",
       "      <td>0.213051</td>\n",
       "    </tr>\n",
       "    <tr>\n",
       "      <th>3</th>\n",
       "      <td>0.213051</td>\n",
       "      <td>0.0</td>\n",
       "      <td>0.790951</td>\n",
       "      <td>0.393274</td>\n",
       "      <td>0.0</td>\n",
       "      <td>0.0</td>\n",
       "      <td>0.0</td>\n",
       "      <td>0.0</td>\n",
       "      <td>1.0</td>\n",
       "      <td>0.0</td>\n",
       "      <td>0.206985</td>\n",
       "    </tr>\n",
       "    <tr>\n",
       "      <th>4</th>\n",
       "      <td>0.206985</td>\n",
       "      <td>0.0</td>\n",
       "      <td>0.792728</td>\n",
       "      <td>0.393192</td>\n",
       "      <td>0.0</td>\n",
       "      <td>0.0</td>\n",
       "      <td>0.0</td>\n",
       "      <td>0.0</td>\n",
       "      <td>1.0</td>\n",
       "      <td>0.0</td>\n",
       "      <td>0.313447</td>\n",
       "    </tr>\n",
       "    <tr>\n",
       "      <th>5</th>\n",
       "      <td>0.313447</td>\n",
       "      <td>0.0</td>\n",
       "      <td>0.793675</td>\n",
       "      <td>0.516781</td>\n",
       "      <td>0.0</td>\n",
       "      <td>0.0</td>\n",
       "      <td>0.0</td>\n",
       "      <td>0.0</td>\n",
       "      <td>0.0</td>\n",
       "      <td>1.0</td>\n",
       "      <td>0.350131</td>\n",
       "    </tr>\n",
       "  </tbody>\n",
       "</table>\n",
       "</div>"
      ],
      "text/plain": [
       "   var1(t-1)  var2(t-1)  var3(t-1)  var4(t-1)  var5(t-1)  var6(t-1)   \n",
       "1   0.000000        0.0   0.792965   0.040153        0.0        0.0  \\\n",
       "2   0.329684        0.0   0.792965   0.513847        0.0        0.0   \n",
       "3   0.213051        0.0   0.790951   0.393274        0.0        0.0   \n",
       "4   0.206985        0.0   0.792728   0.393192        0.0        0.0   \n",
       "5   0.313447        0.0   0.793675   0.516781        0.0        0.0   \n",
       "\n",
       "   var7(t-1)  var8(t-1)  var9(t-1)  var10(t-1)   var1(t)  \n",
       "1        0.0        1.0        0.0         0.0  0.329684  \n",
       "2        0.0        0.0        1.0         0.0  0.213051  \n",
       "3        0.0        0.0        1.0         0.0  0.206985  \n",
       "4        0.0        0.0        1.0         0.0  0.313447  \n",
       "5        0.0        0.0        0.0         1.0  0.350131  "
      ]
     },
     "execution_count": 43,
     "metadata": {},
     "output_type": "execute_result"
    }
   ],
   "source": [
    "series.head() # Final dataset that we pass to LSTM models."
   ]
  },
  {
   "cell_type": "code",
   "execution_count": 44,
   "metadata": {
    "id": "M7vsVNsJkrT9"
   },
   "outputs": [],
   "source": [
    "series_values = series.values"
   ]
  },
  {
   "cell_type": "code",
   "execution_count": 45,
   "metadata": {
    "id": "qZEMJhBUkrXX"
   },
   "outputs": [],
   "source": [
    "# Label\n",
    "labels = series[\"var1(t)\"] # SALES VALUE - DEPENDENT VARIABLE\n",
    "series = series.drop(\"var1(t)\", axis=1) # INDEPENDENT VARIABLES"
   ]
  },
  {
   "cell_type": "code",
   "execution_count": 46,
   "metadata": {
    "id": "7Qd33xDEkrcx"
   },
   "outputs": [],
   "source": [
    "l_values = labels.values\n",
    "s_values = series.values"
   ]
  },
  {
   "cell_type": "code",
   "execution_count": 47,
   "metadata": {
    "colab": {
     "base_uri": "https://localhost:8080/"
    },
    "id": "n99RGeoJkrgz",
    "outputId": "f96e61bb-2d05-4208-97c6-6c1a9177e305"
   },
   "outputs": [
    {
     "data": {
      "text/plain": [
       "(1681, 10)"
      ]
     },
     "execution_count": 47,
     "metadata": {},
     "output_type": "execute_result"
    }
   ],
   "source": [
    "series.shape"
   ]
  },
  {
   "cell_type": "code",
   "execution_count": 48,
   "metadata": {
    "colab": {
     "base_uri": "https://localhost:8080/"
    },
    "id": "UbqlvAD8krkk",
    "outputId": "542d049c-e8b1-4081-a5e2-956e6814e112"
   },
   "outputs": [
    {
     "name": "stdout",
     "output_type": "stream",
     "text": [
      "Train shape:  (1095, 10) (1095,)\n",
      "Test shape:  (586, 10) (586,)\n"
     ]
    }
   ],
   "source": [
    "split_length = 365*3 #Will train on 3 years of data and predict the rest\n",
    "\n",
    "X_train = s_values[:split_length]\n",
    "X_test = s_values[split_length:]\n",
    "\n",
    "y_train = l_values[:split_length]\n",
    "y_test = l_values[split_length:]\n",
    "\n",
    "print(\"Train shape: \", X_train.shape, y_train.shape)\n",
    "print(\"Test shape: \", X_test.shape, y_test.shape)"
   ]
  },
  {
   "cell_type": "code",
   "execution_count": 49,
   "metadata": {
    "colab": {
     "base_uri": "https://localhost:8080/"
    },
    "id": "sZNgeOSrXTDW",
    "outputId": "7d23e78c-6841-4913-d4ed-369fd3a6fcd1"
   },
   "outputs": [
    {
     "name": "stdout",
     "output_type": "stream",
     "text": [
      "X_train size:  (1095, 1, 10)\n",
      "X_test size:  (586, 1, 10)\n"
     ]
    }
   ],
   "source": [
    "# Reshape for LSTM input\n",
    "\n",
    "X_train = X_train.reshape((X_train.shape[0], 1, X_train.shape[1]))\n",
    "X_test = X_test.reshape((X_test.shape[0], 1, X_test.shape[1]))\n",
    "\n",
    "print(\"X_train size: \", X_train.shape)\n",
    "print(\"X_test size: \", X_test.shape)"
   ]
  },
  {
   "cell_type": "markdown",
   "metadata": {
    "id": "1FnrNCs6XgdB"
   },
   "source": [
    "## LSTM"
   ]
  },
  {
   "cell_type": "code",
   "execution_count": 50,
   "metadata": {
    "id": "EGSYJ1hEXTHR"
   },
   "outputs": [],
   "source": [
    "from keras.optimizers import Adam\n",
    "\n",
    "epochs = 50\n",
    "batch = 64\n",
    "lr = 0.0001\n",
    "adam = Adam(lr)"
   ]
  },
  {
   "cell_type": "code",
   "execution_count": 51,
   "metadata": {
    "colab": {
     "base_uri": "https://localhost:8080/"
    },
    "id": "2rdkQxx-XTLE",
    "outputId": "3e52590b-fe5d-4bfd-c8d3-b0a86860b7c5"
   },
   "outputs": [],
   "source": [
    "from keras.models import Sequential\n",
    "from keras.layers import LSTM, Dropout, Dense\n",
    "from sklearn.metrics import mean_squared_error,r2_score\n",
    "\n",
    "model = Sequential()\n",
    "model.add(LSTM(100, activation='relu', input_shape = (X_train.shape[1], X_train.shape[2])))\n",
    "model.add(Dense(16))\n",
    "model.add(Dense(1))"
   ]
  },
  {
   "cell_type": "code",
   "execution_count": 52,
   "metadata": {
    "colab": {
     "base_uri": "https://localhost:8080/"
    },
    "id": "fxTd2xIlb8H0",
    "outputId": "26571455-cafc-4606-a998-a4148b818357"
   },
   "outputs": [
    {
     "name": "stdout",
     "output_type": "stream",
     "text": [
      "1 10\n"
     ]
    }
   ],
   "source": [
    "print(X_train.shape[1], X_train.shape[2])"
   ]
  },
  {
   "cell_type": "code",
   "execution_count": 53,
   "metadata": {
    "id": "PZZf3moFXTQG"
   },
   "outputs": [],
   "source": [
    "import tensorflow as tf\n",
    "callback = tf.keras.callbacks.EarlyStopping(monitor='val_loss', patience=5)"
   ]
  },
  {
   "cell_type": "code",
   "execution_count": 54,
   "metadata": {
    "id": "ZxUqeKyMXTTk"
   },
   "outputs": [],
   "source": [
    "model.compile(loss = 'mse', optimizer=adam)"
   ]
  },
  {
   "cell_type": "code",
   "execution_count": 55,
   "metadata": {
    "colab": {
     "base_uri": "https://localhost:8080/"
    },
    "id": "tuL5T9jNXTWk",
    "outputId": "e21d20c0-bce8-4913-e54e-f5953e0f6036"
   },
   "outputs": [
    {
     "name": "stdout",
     "output_type": "stream",
     "text": [
      "Epoch 1/50\n",
      "35/35 [==============================] - 3s 17ms/step - loss: 0.1341 - val_loss: 0.2516\n",
      "Epoch 2/50\n",
      "35/35 [==============================] - 0s 6ms/step - loss: 0.1074 - val_loss: 0.2131\n",
      "Epoch 3/50\n",
      "35/35 [==============================] - 0s 6ms/step - loss: 0.0843 - val_loss: 0.1763\n",
      "Epoch 4/50\n",
      "35/35 [==============================] - 0s 6ms/step - loss: 0.0643 - val_loss: 0.1411\n",
      "Epoch 5/50\n",
      "35/35 [==============================] - 0s 6ms/step - loss: 0.0478 - val_loss: 0.1090\n",
      "Epoch 6/50\n",
      "35/35 [==============================] - 0s 6ms/step - loss: 0.0356 - val_loss: 0.0818\n",
      "Epoch 7/50\n",
      "35/35 [==============================] - 0s 5ms/step - loss: 0.0278 - val_loss: 0.0620\n",
      "Epoch 8/50\n",
      "35/35 [==============================] - 0s 5ms/step - loss: 0.0237 - val_loss: 0.0487\n",
      "Epoch 9/50\n",
      "35/35 [==============================] - 0s 6ms/step - loss: 0.0218 - val_loss: 0.0417\n",
      "Epoch 10/50\n",
      "35/35 [==============================] - 0s 5ms/step - loss: 0.0207 - val_loss: 0.0367\n",
      "Epoch 11/50\n",
      "35/35 [==============================] - 0s 6ms/step - loss: 0.0200 - val_loss: 0.0346\n",
      "Epoch 12/50\n",
      "35/35 [==============================] - 0s 6ms/step - loss: 0.0191 - val_loss: 0.0314\n",
      "Epoch 13/50\n",
      "35/35 [==============================] - 0s 6ms/step - loss: 0.0183 - val_loss: 0.0288\n",
      "Epoch 14/50\n",
      "35/35 [==============================] - 0s 6ms/step - loss: 0.0174 - val_loss: 0.0264\n",
      "Epoch 15/50\n",
      "35/35 [==============================] - 0s 6ms/step - loss: 0.0165 - val_loss: 0.0242\n",
      "Epoch 16/50\n",
      "35/35 [==============================] - 0s 6ms/step - loss: 0.0157 - val_loss: 0.0223\n",
      "Epoch 17/50\n",
      "35/35 [==============================] - 0s 6ms/step - loss: 0.0150 - val_loss: 0.0205\n",
      "Epoch 18/50\n",
      "35/35 [==============================] - 0s 6ms/step - loss: 0.0143 - val_loss: 0.0191\n",
      "Epoch 19/50\n",
      "35/35 [==============================] - 0s 10ms/step - loss: 0.0137 - val_loss: 0.0176\n",
      "Epoch 20/50\n",
      "35/35 [==============================] - 0s 10ms/step - loss: 0.0131 - val_loss: 0.0168\n",
      "Epoch 21/50\n",
      "35/35 [==============================] - 0s 10ms/step - loss: 0.0126 - val_loss: 0.0159\n",
      "Epoch 22/50\n",
      "35/35 [==============================] - 0s 9ms/step - loss: 0.0122 - val_loss: 0.0152\n",
      "Epoch 23/50\n",
      "35/35 [==============================] - 0s 6ms/step - loss: 0.0118 - val_loss: 0.0148\n",
      "Epoch 24/50\n",
      "35/35 [==============================] - 0s 6ms/step - loss: 0.0114 - val_loss: 0.0145\n",
      "Epoch 25/50\n",
      "35/35 [==============================] - 0s 6ms/step - loss: 0.0111 - val_loss: 0.0144\n",
      "Epoch 26/50\n",
      "35/35 [==============================] - 0s 6ms/step - loss: 0.0109 - val_loss: 0.0144\n",
      "Epoch 27/50\n",
      "35/35 [==============================] - 0s 6ms/step - loss: 0.0107 - val_loss: 0.0145\n",
      "Epoch 28/50\n",
      "35/35 [==============================] - 0s 6ms/step - loss: 0.0105 - val_loss: 0.0146\n",
      "Epoch 29/50\n",
      "35/35 [==============================] - 0s 6ms/step - loss: 0.0103 - val_loss: 0.0147\n",
      "Epoch 30/50\n",
      "35/35 [==============================] - 0s 6ms/step - loss: 0.0102 - val_loss: 0.0151\n",
      "Epoch 31/50\n",
      "35/35 [==============================] - 0s 6ms/step - loss: 0.0101 - val_loss: 0.0153\n"
     ]
    }
   ],
   "source": [
    "history = model.fit(X_train, y_train, validation_data = (X_test, y_test), callbacks = callback,  epochs=epochs, verbose=1)"
   ]
  },
  {
   "cell_type": "code",
   "execution_count": 56,
   "metadata": {
    "colab": {
     "base_uri": "https://localhost:8080/",
     "height": 430
    },
    "id": "DuoZykUeXTZQ",
    "outputId": "d427c4aa-8019-49cb-bae0-a5889ddb0b3d"
   },
   "outputs": [
    {
     "data": {
      "image/png": "[encoded data removed]",
      "text/plain": [
       "<Figure size 432x288 with 1 Axes>"
      ]
     },
     "metadata": {
      "needs_background": "light"
     },
     "output_type": "display_data"
    }
   ],
   "source": [
    "import matplotlib.pyplot as plt\n",
    "plt.plot(history.history['loss'], label='train')\n",
    "plt.plot(history.history['val_loss'], label='validation')\n",
    "plt.legend()\n",
    "plt.show()"
   ]
  },
  {
   "cell_type": "code",
   "execution_count": 57,
   "metadata": {
    "colab": {
     "base_uri": "https://localhost:8080/"
    },
    "id": "8UTMBqbjXTdU",
    "outputId": "47ae1f6c-7a95-4ebc-f947-dca01c3cf720"
   },
   "outputs": [
    {
     "name": "stdout",
     "output_type": "stream",
     "text": [
      "19/19 [==============================] - 0s 3ms/step\n",
      "Test RMSE: 93.944\n"
     ]
    }
   ],
   "source": [
    "yhat = model.predict(X_test)\n",
    "X_test = X_test.reshape((X_test.shape[0], X_test.shape[2]))\n",
    "# invert scaling for forecast\n",
    "inv_yhat = np.concatenate((yhat, X_test[:, 1:]), axis=1)\n",
    "inv_yhat = scaler.inverse_transform(inv_yhat)\n",
    "inv_yhat = inv_yhat[:,0]\n",
    "# invert scaling for actual\n",
    "y_test = y_test.reshape((len(y_test), 1))\n",
    "inv_y = np.concatenate((y_test, X_test[:, 1:]), axis=1)\n",
    "inv_y = scaler.inverse_transform(inv_y)\n",
    "inv_y = inv_y[:,0]\n",
    "# calculate RMSE\n",
    "rmse = np.sqrt(mean_squared_error(inv_y, inv_yhat))\n",
    "print('Test RMSE: %.3f' % rmse)"
   ]
  },
  {
   "cell_type": "code",
   "execution_count": null,
   "metadata": {
    "id": "_nzrhRc3XUPe"
   },
   "outputs": [],
   "source": []
  },
  {
   "cell_type": "code",
   "execution_count": null,
   "metadata": {
    "id": "IhUL-BDvXUVT"
   },
   "outputs": [],
   "source": []
  },
  {
   "cell_type": "code",
   "execution_count": null,
   "metadata": {
    "id": "VUUCNkClXUYX"
   },
   "outputs": [],
   "source": []
  },
  {
   "cell_type": "code",
   "execution_count": null,
   "metadata": {
    "id": "WAds5veTXUcQ"
   },
   "outputs": [],
   "source": []
  },
  {
   "cell_type": "code",
   "execution_count": null,
   "metadata": {
    "id": "slfSgq4uXUf3"
   },
   "outputs": [],
   "source": []
  },
  {
   "cell_type": "code",
   "execution_count": null,
   "metadata": {
    "id": "Shv-sIfYXUjX"
   },
   "outputs": [],
   "source": []
  },
  {
   "cell_type": "code",
   "execution_count": null,
   "metadata": {
    "id": "cPNlLjlrXUl9"
   },
   "outputs": [],
   "source": []
  },
  {
   "cell_type": "code",
   "execution_count": null,
   "metadata": {
    "id": "WDP4JohJXUpj"
   },
   "outputs": [],
   "source": []
  },
  {
   "cell_type": "code",
   "execution_count": null,
   "metadata": {
    "id": "_LofcMNmXUs6"
   },
   "outputs": [],
   "source": []
  },
  {
   "cell_type": "code",
   "execution_count": null,
   "metadata": {
    "id": "SKVA3vOuXUv0"
   },
   "outputs": [],
   "source": []
  }
 ],
 "metadata": {
  "accelerator": "GPU",
  "colab": {
   "provenance": []
  },
  "gpuClass": "standard",
  "kernelspec": {
   "display_name": "Python 3",
   "language": "python",
   "name": "python3"
  },
  "language_info": {
   "codemirror_mode": {
    "name": "ipython",
    "version": 3
   },
   "file_extension": ".py",
   "mimetype": "text/x-python",
   "name": "python",
   "nbconvert_exporter": "python",
   "pygments_lexer": "ipython3",
   "version": "3.8.5"
  }
 },
 "nbformat": 4,
 "nbformat_minor": 1
}
